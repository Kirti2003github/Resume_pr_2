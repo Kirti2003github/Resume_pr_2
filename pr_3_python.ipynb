{
 "cells": [
  {
   "cell_type": "code",
   "execution_count": 1,
   "id": "1cc68321",
   "metadata": {},
   "outputs": [],
   "source": [
    "import pandas as pd\n",
    "import seaborn as sns\n",
    "import matplotlib.pyplot as plt\n",
    "import numpy as np\n",
    "%matplotlib inline"
   ]
  },
  {
   "cell_type": "code",
   "execution_count": 2,
   "id": "eed9f609",
   "metadata": {},
   "outputs": [],
   "source": [
    "df1=pd.read_csv('domestic_visitors_2016.csv')"
   ]
  },
  {
   "cell_type": "code",
   "execution_count": 3,
   "id": "4719c517",
   "metadata": {},
   "outputs": [],
   "source": [
    "df2=pd.read_csv('domestic_visitors_2017.csv')"
   ]
  },
  {
   "cell_type": "code",
   "execution_count": 4,
   "id": "f23fa801",
   "metadata": {},
   "outputs": [],
   "source": [
    "df3=pd.read_csv('domestic_visitors_2018.csv')"
   ]
  },
  {
   "cell_type": "code",
   "execution_count": 5,
   "id": "57f2bc1f",
   "metadata": {},
   "outputs": [],
   "source": [
    "df4=pd.read_csv('domestic_visitors_2019.csv')"
   ]
  },
  {
   "cell_type": "code",
   "execution_count": 6,
   "id": "4c9095a2",
   "metadata": {},
   "outputs": [
    {
     "data": {
      "text/html": [
       "<div>\n",
       "<style scoped>\n",
       "    .dataframe tbody tr th:only-of-type {\n",
       "        vertical-align: middle;\n",
       "    }\n",
       "\n",
       "    .dataframe tbody tr th {\n",
       "        vertical-align: top;\n",
       "    }\n",
       "\n",
       "    .dataframe thead th {\n",
       "        text-align: right;\n",
       "    }\n",
       "</style>\n",
       "<table border=\"1\" class=\"dataframe\">\n",
       "  <thead>\n",
       "    <tr style=\"text-align: right;\">\n",
       "      <th></th>\n",
       "      <th>district</th>\n",
       "      <th>date</th>\n",
       "      <th>month</th>\n",
       "      <th>year</th>\n",
       "      <th>visitors</th>\n",
       "    </tr>\n",
       "  </thead>\n",
       "  <tbody>\n",
       "    <tr>\n",
       "      <th>0</th>\n",
       "      <td>Adilabad</td>\n",
       "      <td>01-01-2019</td>\n",
       "      <td>January</td>\n",
       "      <td>2019</td>\n",
       "      <td>25071</td>\n",
       "    </tr>\n",
       "    <tr>\n",
       "      <th>1</th>\n",
       "      <td>Adilabad</td>\n",
       "      <td>01-02-2019</td>\n",
       "      <td>February</td>\n",
       "      <td>2019</td>\n",
       "      <td>406177</td>\n",
       "    </tr>\n",
       "    <tr>\n",
       "      <th>2</th>\n",
       "      <td>Adilabad</td>\n",
       "      <td>01-03-2019</td>\n",
       "      <td>March</td>\n",
       "      <td>2019</td>\n",
       "      <td>14347</td>\n",
       "    </tr>\n",
       "    <tr>\n",
       "      <th>3</th>\n",
       "      <td>Adilabad</td>\n",
       "      <td>01-04-2019</td>\n",
       "      <td>April</td>\n",
       "      <td>2019</td>\n",
       "      <td>9972</td>\n",
       "    </tr>\n",
       "    <tr>\n",
       "      <th>4</th>\n",
       "      <td>Adilabad</td>\n",
       "      <td>01-05-2019</td>\n",
       "      <td>May</td>\n",
       "      <td>2019</td>\n",
       "      <td>6997</td>\n",
       "    </tr>\n",
       "  </tbody>\n",
       "</table>\n",
       "</div>"
      ],
      "text/plain": [
       "   district        date     month  year visitors\n",
       "0  Adilabad  01-01-2019   January  2019    25071\n",
       "1  Adilabad  01-02-2019  February  2019   406177\n",
       "2  Adilabad  01-03-2019     March  2019    14347\n",
       "3  Adilabad  01-04-2019     April  2019     9972\n",
       "4  Adilabad  01-05-2019       May  2019     6997"
      ]
     },
     "execution_count": 6,
     "metadata": {},
     "output_type": "execute_result"
    }
   ],
   "source": [
    "df4.head()"
   ]
  },
  {
   "cell_type": "code",
   "execution_count": 7,
   "id": "4a00d2bf",
   "metadata": {},
   "outputs": [],
   "source": [
    "df=pd.concat([df1,df2,df3,df4])"
   ]
  },
  {
   "cell_type": "code",
   "execution_count": 8,
   "id": "cefd0e65",
   "metadata": {},
   "outputs": [
    {
     "data": {
      "text/html": [
       "<div>\n",
       "<style scoped>\n",
       "    .dataframe tbody tr th:only-of-type {\n",
       "        vertical-align: middle;\n",
       "    }\n",
       "\n",
       "    .dataframe tbody tr th {\n",
       "        vertical-align: top;\n",
       "    }\n",
       "\n",
       "    .dataframe thead th {\n",
       "        text-align: right;\n",
       "    }\n",
       "</style>\n",
       "<table border=\"1\" class=\"dataframe\">\n",
       "  <thead>\n",
       "    <tr style=\"text-align: right;\">\n",
       "      <th></th>\n",
       "      <th>district</th>\n",
       "      <th>date</th>\n",
       "      <th>month</th>\n",
       "      <th>year</th>\n",
       "      <th>visitors</th>\n",
       "    </tr>\n",
       "  </thead>\n",
       "  <tbody>\n",
       "    <tr>\n",
       "      <th>391</th>\n",
       "      <td>Yadadri Bhongir</td>\n",
       "      <td>01-08-2019</td>\n",
       "      <td>August</td>\n",
       "      <td>2019</td>\n",
       "      <td>389010</td>\n",
       "    </tr>\n",
       "    <tr>\n",
       "      <th>392</th>\n",
       "      <td>Yadadri Bhongir</td>\n",
       "      <td>01-09-2019</td>\n",
       "      <td>September</td>\n",
       "      <td>2019</td>\n",
       "      <td>366862</td>\n",
       "    </tr>\n",
       "    <tr>\n",
       "      <th>393</th>\n",
       "      <td>Yadadri Bhongir</td>\n",
       "      <td>01-10-2019</td>\n",
       "      <td>October</td>\n",
       "      <td>2019</td>\n",
       "      <td>381860</td>\n",
       "    </tr>\n",
       "    <tr>\n",
       "      <th>394</th>\n",
       "      <td>Yadadri Bhongir</td>\n",
       "      <td>01-11-2019</td>\n",
       "      <td>November</td>\n",
       "      <td>2019</td>\n",
       "      <td>365990</td>\n",
       "    </tr>\n",
       "    <tr>\n",
       "      <th>395</th>\n",
       "      <td>Yadadri Bhongir</td>\n",
       "      <td>01-12-2019</td>\n",
       "      <td>December</td>\n",
       "      <td>2019</td>\n",
       "      <td>477635</td>\n",
       "    </tr>\n",
       "  </tbody>\n",
       "</table>\n",
       "</div>"
      ],
      "text/plain": [
       "            district        date      month  year visitors\n",
       "391  Yadadri Bhongir  01-08-2019     August  2019   389010\n",
       "392  Yadadri Bhongir  01-09-2019  September  2019   366862\n",
       "393  Yadadri Bhongir  01-10-2019    October  2019   381860\n",
       "394  Yadadri Bhongir  01-11-2019   November  2019   365990\n",
       "395  Yadadri Bhongir  01-12-2019   December  2019   477635"
      ]
     },
     "execution_count": 8,
     "metadata": {},
     "output_type": "execute_result"
    }
   ],
   "source": [
    "df.to_csv('domestic_tourist.csv')\n",
    "\n",
    "df.tail()"
   ]
  },
  {
   "cell_type": "code",
   "execution_count": 9,
   "id": "0dbce172",
   "metadata": {},
   "outputs": [
    {
     "data": {
      "text/plain": [
       "1512"
      ]
     },
     "execution_count": 9,
     "metadata": {},
     "output_type": "execute_result"
    }
   ],
   "source": [
    "len(df)"
   ]
  },
  {
   "cell_type": "code",
   "execution_count": 10,
   "id": "73708f65",
   "metadata": {},
   "outputs": [
    {
     "data": {
      "text/plain": [
       "district     0\n",
       "date         0\n",
       "month        0\n",
       "year         0\n",
       "visitors    30\n",
       "dtype: int64"
      ]
     },
     "execution_count": 10,
     "metadata": {},
     "output_type": "execute_result"
    }
   ],
   "source": [
    "df.isna().sum()"
   ]
  },
  {
   "cell_type": "code",
   "execution_count": 11,
   "id": "826d5d65",
   "metadata": {},
   "outputs": [
    {
     "name": "stdout",
     "output_type": "stream",
     "text": [
      "<class 'pandas.core.frame.DataFrame'>\n",
      "Index: 1512 entries, 0 to 395\n",
      "Data columns (total 5 columns):\n",
      " #   Column    Non-Null Count  Dtype \n",
      "---  ------    --------------  ----- \n",
      " 0   district  1512 non-null   object\n",
      " 1   date      1512 non-null   object\n",
      " 2   month     1512 non-null   object\n",
      " 3   year      1512 non-null   int64 \n",
      " 4   visitors  1482 non-null   object\n",
      "dtypes: int64(1), object(4)\n",
      "memory usage: 70.9+ KB\n"
     ]
    }
   ],
   "source": [
    "df.info()"
   ]
  },
  {
   "cell_type": "code",
   "execution_count": 12,
   "id": "29d55a57",
   "metadata": {},
   "outputs": [],
   "source": [
    "import math\n",
    "from numpy import nan\n",
    "\n",
    "def isblank_na(x):\n",
    "    \n",
    "    if x!=' ':\n",
    "        if  isinstance(x,str):\n",
    "            return float(x)\n",
    "\n",
    "df['visitors'].dropna(axis=0,inplace=True)        \n",
    "df['visitors_without_blank']=df['visitors'].apply(lambda x:isblank_na(x))"
   ]
  },
  {
   "cell_type": "code",
   "execution_count": 13,
   "id": "c2d3eb47",
   "metadata": {},
   "outputs": [
    {
     "data": {
      "text/plain": [
       "0"
      ]
     },
     "execution_count": 13,
     "metadata": {},
     "output_type": "execute_result"
    }
   ],
   "source": [
    "\n",
    "df['visitors_without_blank'].dropna(axis=0).isna().sum()\n",
    "#df[df['visitors'].isna()==True]"
   ]
  },
  {
   "cell_type": "code",
   "execution_count": null,
   "id": "ffb00549",
   "metadata": {},
   "outputs": [],
   "source": []
  },
  {
   "cell_type": "code",
   "execution_count": 14,
   "id": "715a66ce",
   "metadata": {},
   "outputs": [
    {
     "data": {
      "text/html": [
       "<div>\n",
       "<style scoped>\n",
       "    .dataframe tbody tr th:only-of-type {\n",
       "        vertical-align: middle;\n",
       "    }\n",
       "\n",
       "    .dataframe tbody tr th {\n",
       "        vertical-align: top;\n",
       "    }\n",
       "\n",
       "    .dataframe thead th {\n",
       "        text-align: right;\n",
       "    }\n",
       "</style>\n",
       "<table border=\"1\" class=\"dataframe\">\n",
       "  <thead>\n",
       "    <tr style=\"text-align: right;\">\n",
       "      <th></th>\n",
       "      <th>district</th>\n",
       "      <th>date</th>\n",
       "      <th>month</th>\n",
       "      <th>year</th>\n",
       "      <th>visitors</th>\n",
       "      <th>visitors_without_blank</th>\n",
       "    </tr>\n",
       "  </thead>\n",
       "  <tbody>\n",
       "  </tbody>\n",
       "</table>\n",
       "</div>"
      ],
      "text/plain": [
       "Empty DataFrame\n",
       "Columns: [district, date, month, year, visitors, visitors_without_blank]\n",
       "Index: []"
      ]
     },
     "execution_count": 14,
     "metadata": {},
     "output_type": "execute_result"
    }
   ],
   "source": [
    "df[df['visitors']==0]"
   ]
  },
  {
   "cell_type": "code",
   "execution_count": 15,
   "id": "845e9470",
   "metadata": {},
   "outputs": [
    {
     "name": "stderr",
     "output_type": "stream",
     "text": [
      "C:\\Users\\lenovo\\AppData\\Local\\Temp\\ipykernel_6324\\2483589881.py:1: UserWarning: \n",
      "\n",
      "`distplot` is a deprecated function and will be removed in seaborn v0.14.0.\n",
      "\n",
      "Please adapt your code to use either `displot` (a figure-level function with\n",
      "similar flexibility) or `histplot` (an axes-level function for histograms).\n",
      "\n",
      "For a guide to updating your code to use the new functions, please see\n",
      "https://gist.github.com/mwaskom/de44147ed2974457ad6372750bbe5751\n",
      "\n",
      "  sns.distplot(df['visitors_without_blank'].dropna(axis=0))\n",
      "C:\\ProgramData\\anaconda3\\lib\\site-packages\\seaborn\\_oldcore.py:1119: FutureWarning: use_inf_as_na option is deprecated and will be removed in a future version. Convert inf values to NaN before operating instead.\n",
      "  with pd.option_context('mode.use_inf_as_na', True):\n"
     ]
    },
    {
     "data": {
      "text/plain": [
       "<Axes: xlabel='visitors_without_blank', ylabel='Density'>"
      ]
     },
     "execution_count": 15,
     "metadata": {},
     "output_type": "execute_result"
    },
    {
     "data": {
      "image/png": "[encoded data removed]",
      "text/plain": [
       "<Figure size 640x480 with 1 Axes>"
      ]
     },
     "metadata": {},
     "output_type": "display_data"
    }
   ],
   "source": [
    "sns.distplot(df['visitors_without_blank'].dropna(axis=0))"
   ]
  },
  {
   "cell_type": "code",
   "execution_count": 16,
   "id": "599e65b3",
   "metadata": {},
   "outputs": [
    {
     "data": {
      "image/png": "[encoded data removed]",
      "text/plain": [
       "<Figure size 640x480 with 1 Axes>"
      ]
     },
     "metadata": {},
     "output_type": "display_data"
    }
   ],
   "source": [
    "plt.boxplot(df['visitors_without_blank'].dropna(axis=0))\n",
    "#df[df['visitors_without_blank']<=(df['visitors_without_blank'].describe()['75%']+1.5*IQR)]['visitors_without_blank']\n",
    "#plt.boxplot(df[df['visitors_without_blank']<=(df['visitors_without_blank'].describe()['75%']+1.5*IQR)]['visitors_without_blank'])\n",
    "#\n",
    "plt.show()"
   ]
  },
  {
   "cell_type": "code",
   "execution_count": 17,
   "id": "6d674fef",
   "metadata": {},
   "outputs": [
    {
     "data": {
      "text/plain": [
       "{'whiskers': [<matplotlib.lines.Line2D at 0x261b978e440>,\n",
       "  <matplotlib.lines.Line2D at 0x261b978e710>],\n",
       " 'caps': [<matplotlib.lines.Line2D at 0x261b978e9b0>,\n",
       "  <matplotlib.lines.Line2D at 0x261b978ec50>],\n",
       " 'boxes': [<matplotlib.lines.Line2D at 0x261b978e1a0>],\n",
       " 'medians': [<matplotlib.lines.Line2D at 0x261b978eef0>],\n",
       " 'fliers': [<matplotlib.lines.Line2D at 0x261b978f190>],\n",
       " 'means': []}"
      ]
     },
     "execution_count": 17,
     "metadata": {},
     "output_type": "execute_result"
    },
    {
     "data": {
      "image/png": "[encoded data removed]",
      "text/plain": [
       "<Figure size 640x480 with 1 Axes>"
      ]
     },
     "metadata": {},
     "output_type": "display_data"
    }
   ],
   "source": [
    "plt.boxplot(df['year'])"
   ]
  },
  {
   "cell_type": "code",
   "execution_count": 18,
   "id": "e39cd336",
   "metadata": {},
   "outputs": [
    {
     "name": "stdout",
     "output_type": "stream",
     "text": [
      "<class 'pandas.core.frame.DataFrame'>\n",
      "Index: 1512 entries, 0 to 395\n",
      "Data columns (total 6 columns):\n",
      " #   Column                  Non-Null Count  Dtype  \n",
      "---  ------                  --------------  -----  \n",
      " 0   district                1512 non-null   object \n",
      " 1   date                    1512 non-null   object \n",
      " 2   month                   1512 non-null   object \n",
      " 3   year                    1512 non-null   int64  \n",
      " 4   visitors                1482 non-null   object \n",
      " 5   visitors_without_blank  1167 non-null   float64\n",
      "dtypes: float64(1), int64(1), object(4)\n",
      "memory usage: 82.7+ KB\n"
     ]
    }
   ],
   "source": [
    "df.info()"
   ]
  },
  {
   "cell_type": "code",
   "execution_count": 19,
   "id": "bb4a2f55",
   "metadata": {},
   "outputs": [
    {
     "data": {
      "text/plain": [
       "count    1.167000e+03\n",
       "mean     3.053485e+05\n",
       "std      9.215106e+05\n",
       "min      0.000000e+00\n",
       "25%      1.320500e+04\n",
       "50%      1.192550e+05\n",
       "75%      3.153185e+05\n",
       "max      2.070378e+07\n",
       "Name: visitors_without_blank, dtype: float64"
      ]
     },
     "execution_count": 19,
     "metadata": {},
     "output_type": "execute_result"
    }
   ],
   "source": [
    "df['visitors_without_blank'].describe()"
   ]
  },
  {
   "cell_type": "code",
   "execution_count": 20,
   "id": "11161b32",
   "metadata": {},
   "outputs": [
    {
     "data": {
      "text/plain": [
       "305348.45672664954"
      ]
     },
     "execution_count": 20,
     "metadata": {},
     "output_type": "execute_result"
    }
   ],
   "source": [
    "df['visitors_without_blank'].mean()"
   ]
  },
  {
   "cell_type": "code",
   "execution_count": 21,
   "id": "fdd97d5e",
   "metadata": {},
   "outputs": [
    {
     "data": {
      "text/plain": [
       "119255.0"
      ]
     },
     "execution_count": 21,
     "metadata": {},
     "output_type": "execute_result"
    }
   ],
   "source": [
    "df['visitors_without_blank'].median()"
   ]
  },
  {
   "cell_type": "code",
   "execution_count": 22,
   "id": "d68ac783",
   "metadata": {},
   "outputs": [
    {
     "data": {
      "text/plain": [
       "302113.5"
      ]
     },
     "execution_count": 22,
     "metadata": {},
     "output_type": "execute_result"
    }
   ],
   "source": [
    "IQR=df['visitors_without_blank'].describe()['75%']-df['visitors_without_blank'].describe()['25%']\n",
    "IQR"
   ]
  },
  {
   "cell_type": "code",
   "execution_count": 23,
   "id": "1daefcdd",
   "metadata": {},
   "outputs": [
    {
     "data": {
      "text/plain": [
       "-439965.25"
      ]
     },
     "execution_count": 23,
     "metadata": {},
     "output_type": "execute_result"
    }
   ],
   "source": [
    "df['visitors_without_blank'].describe()['25%']-1.5*IQR"
   ]
  },
  {
   "cell_type": "code",
   "execution_count": 24,
   "id": "ae94ffe8",
   "metadata": {},
   "outputs": [
    {
     "data": {
      "text/plain": [
       "768488.75"
      ]
     },
     "execution_count": 24,
     "metadata": {},
     "output_type": "execute_result"
    }
   ],
   "source": [
    "df['visitors_without_blank'].describe()['75%']+1.5*IQR"
   ]
  },
  {
   "cell_type": "code",
   "execution_count": 25,
   "id": "09422fe1",
   "metadata": {},
   "outputs": [
    {
     "data": {
      "text/plain": [
       "0       792136.0\n",
       "1       937820.0\n",
       "24     1122510.0\n",
       "25      778748.0\n",
       "26     1017794.0\n",
       "         ...    \n",
       "280    1018131.0\n",
       "281    1128849.0\n",
       "286    1259371.0\n",
       "287    1472801.0\n",
       "317    1037000.0\n",
       "Name: visitors_without_blank, Length: 110, dtype: float64"
      ]
     },
     "execution_count": 25,
     "metadata": {},
     "output_type": "execute_result"
    }
   ],
   "source": [
    "df[df['visitors_without_blank']>(df['visitors_without_blank'].describe()['75%']+1.5*IQR)]['visitors_without_blank']"
   ]
  },
  {
   "cell_type": "code",
   "execution_count": 26,
   "id": "6308b90f",
   "metadata": {},
   "outputs": [
    {
     "name": "stderr",
     "output_type": "stream",
     "text": [
      "C:\\Users\\lenovo\\AppData\\Local\\Temp\\ipykernel_6324\\3776093937.py:1: UserWarning: \n",
      "\n",
      "`distplot` is a deprecated function and will be removed in seaborn v0.14.0.\n",
      "\n",
      "Please adapt your code to use either `displot` (a figure-level function with\n",
      "similar flexibility) or `histplot` (an axes-level function for histograms).\n",
      "\n",
      "For a guide to updating your code to use the new functions, please see\n",
      "https://gist.github.com/mwaskom/de44147ed2974457ad6372750bbe5751\n",
      "\n",
      "  sns.distplot(df[df['visitors_without_blank']<=(df['visitors_without_blank'].describe()['75%']+1.5*IQR)]['visitors_without_blank'])\n",
      "C:\\ProgramData\\anaconda3\\lib\\site-packages\\seaborn\\_oldcore.py:1119: FutureWarning: use_inf_as_na option is deprecated and will be removed in a future version. Convert inf values to NaN before operating instead.\n",
      "  with pd.option_context('mode.use_inf_as_na', True):\n"
     ]
    },
    {
     "data": {
      "text/plain": [
       "<Axes: xlabel='visitors_without_blank', ylabel='Density'>"
      ]
     },
     "execution_count": 26,
     "metadata": {},
     "output_type": "execute_result"
    },
    {
     "data": {
      "image/png": "[encoded data removed]",
      "text/plain": [
       "<Figure size 640x480 with 1 Axes>"
      ]
     },
     "metadata": {},
     "output_type": "display_data"
    }
   ],
   "source": [
    "sns.distplot(df[df['visitors_without_blank']<=(df['visitors_without_blank'].describe()['75%']+1.5*IQR)]['visitors_without_blank'])"
   ]
  },
  {
   "cell_type": "code",
   "execution_count": 27,
   "id": "c2e1aab5",
   "metadata": {},
   "outputs": [
    {
     "data": {
      "text/plain": [
       "172408.7225655993"
      ]
     },
     "execution_count": 27,
     "metadata": {},
     "output_type": "execute_result"
    }
   ],
   "source": [
    "df[df['visitors_without_blank']<=(df['visitors_without_blank'].describe()['75%']+1.5*IQR)]['visitors_without_blank'].std()"
   ]
  },
  {
   "cell_type": "code",
   "execution_count": 28,
   "id": "e2cec742",
   "metadata": {},
   "outputs": [
    {
     "data": {
      "text/plain": [
       "1022201.2774344007"
      ]
     },
     "execution_count": 28,
     "metadata": {},
     "output_type": "execute_result"
    }
   ],
   "source": [
    "1.194610e+06-172408.7225655993"
   ]
  },
  {
   "cell_type": "code",
   "execution_count": 29,
   "id": "b78caa47",
   "metadata": {},
   "outputs": [
    {
     "data": {
      "text/plain": [
       "0"
      ]
     },
     "execution_count": 29,
     "metadata": {},
     "output_type": "execute_result"
    }
   ],
   "source": [
    "df['visitors_without_blank'].fillna(df['visitors_without_blank'].median(),axis=0).isna().sum()#,inplace=True)"
   ]
  },
  {
   "cell_type": "code",
   "execution_count": 30,
   "id": "673a1d82",
   "metadata": {},
   "outputs": [],
   "source": [
    "df['visitors_without_blank'].fillna(df['visitors_without_blank'].median(),axis=0,inplace=True)"
   ]
  },
  {
   "cell_type": "code",
   "execution_count": 31,
   "id": "c37815b5",
   "metadata": {},
   "outputs": [
    {
     "data": {
      "text/plain": [
       "133428.03386167146"
      ]
     },
     "execution_count": 31,
     "metadata": {},
     "output_type": "execute_result"
    }
   ],
   "source": [
    "df[df['visitors_without_blank']<=(df['visitors_without_blank'].describe()['75%']+1.5*IQR)]['visitors_without_blank'].mean()"
   ]
  },
  {
   "cell_type": "code",
   "execution_count": 32,
   "id": "d5e48427",
   "metadata": {},
   "outputs": [
    {
     "data": {
      "text/plain": [
       "119255.0"
      ]
     },
     "execution_count": 32,
     "metadata": {},
     "output_type": "execute_result"
    }
   ],
   "source": [
    "df[df['visitors_without_blank']<=(df['visitors_without_blank'].describe()['75%']+1.5*IQR)]['visitors_without_blank'].median()"
   ]
  },
  {
   "cell_type": "code",
   "execution_count": 33,
   "id": "ab4d0136",
   "metadata": {},
   "outputs": [],
   "source": [
    "df['visitors']=df['visitors_without_blank']"
   ]
  },
  {
   "cell_type": "code",
   "execution_count": 34,
   "id": "a23d46a8",
   "metadata": {},
   "outputs": [
    {
     "name": "stdout",
     "output_type": "stream",
     "text": [
      "<class 'pandas.core.frame.DataFrame'>\n",
      "Index: 1512 entries, 0 to 395\n",
      "Data columns (total 6 columns):\n",
      " #   Column                  Non-Null Count  Dtype  \n",
      "---  ------                  --------------  -----  \n",
      " 0   district                1512 non-null   object \n",
      " 1   date                    1512 non-null   object \n",
      " 2   month                   1512 non-null   object \n",
      " 3   year                    1512 non-null   int64  \n",
      " 4   visitors                1512 non-null   float64\n",
      " 5   visitors_without_blank  1512 non-null   float64\n",
      "dtypes: float64(2), int64(1), object(3)\n",
      "memory usage: 82.7+ KB\n"
     ]
    }
   ],
   "source": [
    "df.info()"
   ]
  },
  {
   "cell_type": "code",
   "execution_count": 35,
   "id": "814d9111",
   "metadata": {},
   "outputs": [
    {
     "name": "stderr",
     "output_type": "stream",
     "text": [
      "C:\\Users\\lenovo\\AppData\\Local\\Temp\\ipykernel_6324\\2019514636.py:1: UserWarning: \n",
      "\n",
      "`distplot` is a deprecated function and will be removed in seaborn v0.14.0.\n",
      "\n",
      "Please adapt your code to use either `displot` (a figure-level function with\n",
      "similar flexibility) or `histplot` (an axes-level function for histograms).\n",
      "\n",
      "For a guide to updating your code to use the new functions, please see\n",
      "https://gist.github.com/mwaskom/de44147ed2974457ad6372750bbe5751\n",
      "\n",
      "  sns.distplot(df['visitors'])\n",
      "C:\\ProgramData\\anaconda3\\lib\\site-packages\\seaborn\\_oldcore.py:1119: FutureWarning: use_inf_as_na option is deprecated and will be removed in a future version. Convert inf values to NaN before operating instead.\n",
      "  with pd.option_context('mode.use_inf_as_na', True):\n"
     ]
    },
    {
     "data": {
      "text/plain": [
       "<Axes: xlabel='visitors', ylabel='Density'>"
      ]
     },
     "execution_count": 35,
     "metadata": {},
     "output_type": "execute_result"
    },
    {
     "data": {
      "image/png": "[encoded data removed]",
      "text/plain": [
       "<Figure size 640x480 with 1 Axes>"
      ]
     },
     "metadata": {},
     "output_type": "display_data"
    }
   ],
   "source": [
    "sns.distplot(df['visitors'])"
   ]
  },
  {
   "cell_type": "code",
   "execution_count": 36,
   "id": "fc23d486",
   "metadata": {},
   "outputs": [
    {
     "data": {
      "text/plain": [
       "district                  0\n",
       "date                      0\n",
       "month                     0\n",
       "year                      0\n",
       "visitors                  0\n",
       "visitors_without_blank    0\n",
       "dtype: int64"
      ]
     },
     "execution_count": 36,
     "metadata": {},
     "output_type": "execute_result"
    }
   ],
   "source": [
    "df.isna().sum()"
   ]
  },
  {
   "cell_type": "code",
   "execution_count": 37,
   "id": "a25392cf",
   "metadata": {},
   "outputs": [],
   "source": [
    "df=df.drop('visitors_without_blank',axis=1)"
   ]
  },
  {
   "cell_type": "code",
   "execution_count": 38,
   "id": "c17fdc37",
   "metadata": {},
   "outputs": [
    {
     "data": {
      "text/html": [
       "<div>\n",
       "<style scoped>\n",
       "    .dataframe tbody tr th:only-of-type {\n",
       "        vertical-align: middle;\n",
       "    }\n",
       "\n",
       "    .dataframe tbody tr th {\n",
       "        vertical-align: top;\n",
       "    }\n",
       "\n",
       "    .dataframe thead th {\n",
       "        text-align: right;\n",
       "    }\n",
       "</style>\n",
       "<table border=\"1\" class=\"dataframe\">\n",
       "  <thead>\n",
       "    <tr style=\"text-align: right;\">\n",
       "      <th></th>\n",
       "      <th>district</th>\n",
       "      <th>date</th>\n",
       "      <th>month</th>\n",
       "      <th>year</th>\n",
       "      <th>visitors</th>\n",
       "    </tr>\n",
       "  </thead>\n",
       "  <tbody>\n",
       "    <tr>\n",
       "      <th>0</th>\n",
       "      <td>Adilabad</td>\n",
       "      <td>01-01-2016</td>\n",
       "      <td>January</td>\n",
       "      <td>2016</td>\n",
       "      <td>792136.0</td>\n",
       "    </tr>\n",
       "    <tr>\n",
       "      <th>1</th>\n",
       "      <td>Adilabad</td>\n",
       "      <td>01-02-2016</td>\n",
       "      <td>February</td>\n",
       "      <td>2016</td>\n",
       "      <td>937820.0</td>\n",
       "    </tr>\n",
       "    <tr>\n",
       "      <th>2</th>\n",
       "      <td>Adilabad</td>\n",
       "      <td>01-03-2016</td>\n",
       "      <td>March</td>\n",
       "      <td>2016</td>\n",
       "      <td>582946.0</td>\n",
       "    </tr>\n",
       "    <tr>\n",
       "      <th>3</th>\n",
       "      <td>Adilabad</td>\n",
       "      <td>01-04-2016</td>\n",
       "      <td>April</td>\n",
       "      <td>2016</td>\n",
       "      <td>341948.0</td>\n",
       "    </tr>\n",
       "    <tr>\n",
       "      <th>4</th>\n",
       "      <td>Adilabad</td>\n",
       "      <td>01-05-2016</td>\n",
       "      <td>May</td>\n",
       "      <td>2016</td>\n",
       "      <td>252887.0</td>\n",
       "    </tr>\n",
       "  </tbody>\n",
       "</table>\n",
       "</div>"
      ],
      "text/plain": [
       "   district        date     month  year  visitors\n",
       "0  Adilabad  01-01-2016   January  2016  792136.0\n",
       "1  Adilabad  01-02-2016  February  2016  937820.0\n",
       "2  Adilabad  01-03-2016     March  2016  582946.0\n",
       "3  Adilabad  01-04-2016     April  2016  341948.0\n",
       "4  Adilabad  01-05-2016       May  2016  252887.0"
      ]
     },
     "execution_count": 38,
     "metadata": {},
     "output_type": "execute_result"
    }
   ],
   "source": [
    "df.head()"
   ]
  },
  {
   "cell_type": "code",
   "execution_count": 39,
   "id": "da5107c8",
   "metadata": {},
   "outputs": [
    {
     "data": {
      "text/plain": [
       "143631.65608465608"
      ]
     },
     "execution_count": 39,
     "metadata": {},
     "output_type": "execute_result"
    }
   ],
   "source": [
    "df['visitors'].mean()-df['visitors'].median()"
   ]
  },
  {
   "cell_type": "code",
   "execution_count": 40,
   "id": "f8dc3ea7",
   "metadata": {},
   "outputs": [
    {
     "name": "stderr",
     "output_type": "stream",
     "text": [
      "C:\\Users\\lenovo\\AppData\\Local\\Temp\\ipykernel_6324\\384256857.py:1: UserWarning: \n",
      "\n",
      "`distplot` is a deprecated function and will be removed in seaborn v0.14.0.\n",
      "\n",
      "Please adapt your code to use either `displot` (a figure-level function with\n",
      "similar flexibility) or `histplot` (an axes-level function for histograms).\n",
      "\n",
      "For a guide to updating your code to use the new functions, please see\n",
      "https://gist.github.com/mwaskom/de44147ed2974457ad6372750bbe5751\n",
      "\n",
      "  sns.distplot(df[df['visitors']<=(df['visitors'].describe()['75%']+1.5*IQR)]['visitors'])\n",
      "C:\\ProgramData\\anaconda3\\lib\\site-packages\\seaborn\\_oldcore.py:1119: FutureWarning: use_inf_as_na option is deprecated and will be removed in a future version. Convert inf values to NaN before operating instead.\n",
      "  with pd.option_context('mode.use_inf_as_na', True):\n"
     ]
    },
    {
     "data": {
      "text/plain": [
       "<Axes: xlabel='visitors', ylabel='Density'>"
      ]
     },
     "execution_count": 40,
     "metadata": {},
     "output_type": "execute_result"
    },
    {
     "data": {
      "image/png": "[encoded data removed]",
      "text/plain": [
       "<Figure size 640x480 with 1 Axes>"
      ]
     },
     "metadata": {},
     "output_type": "display_data"
    }
   ],
   "source": [
    "sns.distplot(df[df['visitors']<=(df['visitors'].describe()['75%']+1.5*IQR)]['visitors'])"
   ]
  },
  {
   "cell_type": "code",
   "execution_count": 41,
   "id": "37ab1b82",
   "metadata": {},
   "outputs": [
    {
     "data": {
      "image/png": "[encoded data removed]",
      "text/plain": [
       "<Figure size 640x480 with 1 Axes>"
      ]
     },
     "metadata": {},
     "output_type": "display_data"
    }
   ],
   "source": [
    "plt.boxplot(df[df['visitors']<=(df['visitors'].describe()['75%']+1.5*IQR)]['visitors'])\n",
    "plt.show()"
   ]
  },
  {
   "cell_type": "code",
   "execution_count": 42,
   "id": "cf4506ae",
   "metadata": {},
   "outputs": [
    {
     "data": {
      "text/plain": [
       "1388"
      ]
     },
     "execution_count": 42,
     "metadata": {},
     "output_type": "execute_result"
    }
   ],
   "source": [
    "len(df[df['visitors']<=(df['visitors'].describe()['75%']+1.5*IQR)]['visitors'])\n"
   ]
  },
  {
   "cell_type": "raw",
   "id": "2c9e4474",
   "metadata": {},
   "source": []
  },
  {
   "cell_type": "code",
   "execution_count": 43,
   "id": "e2e05f5b",
   "metadata": {},
   "outputs": [
    {
     "data": {
      "text/html": [
       "<div>\n",
       "<style scoped>\n",
       "    .dataframe tbody tr th:only-of-type {\n",
       "        vertical-align: middle;\n",
       "    }\n",
       "\n",
       "    .dataframe tbody tr th {\n",
       "        vertical-align: top;\n",
       "    }\n",
       "\n",
       "    .dataframe thead th {\n",
       "        text-align: right;\n",
       "    }\n",
       "</style>\n",
       "<table border=\"1\" class=\"dataframe\">\n",
       "  <thead>\n",
       "    <tr style=\"text-align: right;\">\n",
       "      <th></th>\n",
       "      <th>district</th>\n",
       "      <th>date</th>\n",
       "      <th>month</th>\n",
       "      <th>year</th>\n",
       "      <th>visitors</th>\n",
       "    </tr>\n",
       "  </thead>\n",
       "  <tbody>\n",
       "    <tr>\n",
       "      <th>349</th>\n",
       "      <td>Warangal (Urban)</td>\n",
       "      <td>01-02-2016</td>\n",
       "      <td>February</td>\n",
       "      <td>2016</td>\n",
       "      <td>20703778.0</td>\n",
       "    </tr>\n",
       "    <tr>\n",
       "      <th>29</th>\n",
       "      <td>Hyderabad</td>\n",
       "      <td>01-06-2016</td>\n",
       "      <td>June</td>\n",
       "      <td>2016</td>\n",
       "      <td>12032661.0</td>\n",
       "    </tr>\n",
       "    <tr>\n",
       "      <th>17</th>\n",
       "      <td>Bhadradri Kothagudem</td>\n",
       "      <td>01-06-2019</td>\n",
       "      <td>June</td>\n",
       "      <td>2019</td>\n",
       "      <td>9761776.0</td>\n",
       "    </tr>\n",
       "    <tr>\n",
       "      <th>61</th>\n",
       "      <td>Jayashankar Bhoopalpally</td>\n",
       "      <td>01-02-2018</td>\n",
       "      <td>February</td>\n",
       "      <td>2018</td>\n",
       "      <td>8626250.0</td>\n",
       "    </tr>\n",
       "    <tr>\n",
       "      <th>60</th>\n",
       "      <td>Jayashankar Bhoopalpally</td>\n",
       "      <td>01-01-2018</td>\n",
       "      <td>January</td>\n",
       "      <td>2018</td>\n",
       "      <td>6519850.0</td>\n",
       "    </tr>\n",
       "  </tbody>\n",
       "</table>\n",
       "</div>"
      ],
      "text/plain": [
       "                     district        date     month  year    visitors\n",
       "349          Warangal (Urban)  01-02-2016  February  2016  20703778.0\n",
       "29                  Hyderabad  01-06-2016      June  2016  12032661.0\n",
       "17      Bhadradri Kothagudem   01-06-2019      June  2019   9761776.0\n",
       "61   Jayashankar Bhoopalpally  01-02-2018  February  2018   8626250.0\n",
       "60   Jayashankar Bhoopalpally  01-01-2018   January  2018   6519850.0"
      ]
     },
     "execution_count": 43,
     "metadata": {},
     "output_type": "execute_result"
    }
   ],
   "source": [
    "#df.sort('one', ascending=False)\n",
    "df.sort_values('visitors',ascending=False).head()\n",
    "\n",
    "#plt.figure(figsize=(20,6))\n",
    "#sns.barplot(x=df['district'],y=df['visitors'])"
   ]
  },
  {
   "cell_type": "markdown",
   "id": "d45dac68",
   "metadata": {},
   "source": [
    "Question1"
   ]
  },
  {
   "cell_type": "code",
   "execution_count": 44,
   "id": "573f7403",
   "metadata": {},
   "outputs": [],
   "source": [
    "df_district_domestic_visitors=df.groupby(by='district')['visitors'].sum().sort_values().tail(10)"
   ]
  },
  {
   "cell_type": "code",
   "execution_count": 45,
   "id": "e231a931",
   "metadata": {},
   "outputs": [
    {
     "data": {
      "text/plain": [
       "<Axes: xlabel='district'>"
      ]
     },
     "execution_count": 45,
     "metadata": {},
     "output_type": "execute_result"
    },
    {
     "data": {
      "image/png": "[encoded data removed]",
      "text/plain": [
       "<Figure size 2400x600 with 1 Axes>"
      ]
     },
     "metadata": {},
     "output_type": "display_data"
    }
   ],
   "source": [
    "plt.figure(figsize=(24,6))\n",
    "sns.barplot(x=df.groupby(by='district')['visitors'].mean().sort_values().tail(10).index,\n",
    "            y=df.groupby(by='district')['visitors'].mean().sort_values().tail(10).values)"
   ]
  },
  {
   "cell_type": "code",
   "execution_count": 46,
   "id": "efd5ac30",
   "metadata": {},
   "outputs": [],
   "source": [
    "left1=df.groupby(by='district').year.min().to_frame(name = 'Min').reset_index()\n",
    "left1['year']=left1['Min']\n",
    "right1=df.groupby(by='district').year.max().to_frame(name = 'Max').reset_index()\n",
    "right1['year']=right1['Max']\n",
    "visitor_begin_year=pd.merge(left1,df,how='inner',on=['district','year'])\n",
    "visitor_end_year=pd.merge(right1,df,how='inner',on=['district','year'])\n",
    "#df.groupby(by=['district','year']).visitors.sum()\n",
    "visitor_begin_year.drop(['Min','date','month','visitors'],axis=1,inplace=True)\n",
    "visitor_end_year.drop(['Max','date','month','visitors'],axis=1,inplace=True)"
   ]
  },
  {
   "cell_type": "code",
   "execution_count": 47,
   "id": "5ae73097",
   "metadata": {},
   "outputs": [],
   "source": [
    "visitors_min_max_year=df.groupby(by=['district','year']).visitors.sum().to_frame(name = 'Sum').reset_index()\n",
    "visitor_begin_value=pd.merge(visitors_min_max_year,visitor_begin_year,how='inner',on=['district','year']).drop_duplicates()\n",
    "visitor_end_value=pd.merge(visitors_min_max_year,visitor_end_year,how='inner',on=['district','year']).drop_duplicates()\n",
    "visitor_end_value['cagr']=( ( (visitor_end_value['Sum']/visitor_begin_value['Sum']) ** (1/3))-1) *100"
   ]
  },
  {
   "cell_type": "code",
   "execution_count": 48,
   "id": "aeb96ea6",
   "metadata": {},
   "outputs": [
    {
     "data": {
      "text/html": [
       "<div>\n",
       "<style scoped>\n",
       "    .dataframe tbody tr th:only-of-type {\n",
       "        vertical-align: middle;\n",
       "    }\n",
       "\n",
       "    .dataframe tbody tr th {\n",
       "        vertical-align: top;\n",
       "    }\n",
       "\n",
       "    .dataframe thead th {\n",
       "        text-align: right;\n",
       "    }\n",
       "</style>\n",
       "<table border=\"1\" class=\"dataframe\">\n",
       "  <thead>\n",
       "    <tr style=\"text-align: right;\">\n",
       "      <th></th>\n",
       "      <th>district</th>\n",
       "      <th>year</th>\n",
       "      <th>Sum</th>\n",
       "    </tr>\n",
       "  </thead>\n",
       "  <tbody>\n",
       "    <tr>\n",
       "      <th>0</th>\n",
       "      <td>Adilabad</td>\n",
       "      <td>2016</td>\n",
       "      <td>5075557.0</td>\n",
       "    </tr>\n",
       "    <tr>\n",
       "      <th>12</th>\n",
       "      <td>Bhadradri Kothagudem</td>\n",
       "      <td>2016</td>\n",
       "      <td>1962325.0</td>\n",
       "    </tr>\n",
       "    <tr>\n",
       "      <th>24</th>\n",
       "      <td>Hyderabad</td>\n",
       "      <td>2016</td>\n",
       "      <td>23394705.0</td>\n",
       "    </tr>\n",
       "    <tr>\n",
       "      <th>36</th>\n",
       "      <td>Jagtial</td>\n",
       "      <td>2016</td>\n",
       "      <td>1696372.0</td>\n",
       "    </tr>\n",
       "    <tr>\n",
       "      <th>48</th>\n",
       "      <td>Jangaon</td>\n",
       "      <td>2016</td>\n",
       "      <td>1113955.0</td>\n",
       "    </tr>\n",
       "    <tr>\n",
       "      <th>60</th>\n",
       "      <td>Jayashankar Bhoopalpally</td>\n",
       "      <td>2016</td>\n",
       "      <td>1316695.0</td>\n",
       "    </tr>\n",
       "    <tr>\n",
       "      <th>72</th>\n",
       "      <td>Jogulamba Gadwal</td>\n",
       "      <td>2016</td>\n",
       "      <td>1596696.0</td>\n",
       "    </tr>\n",
       "    <tr>\n",
       "      <th>84</th>\n",
       "      <td>Kamareddy</td>\n",
       "      <td>2016</td>\n",
       "      <td>1073422.0</td>\n",
       "    </tr>\n",
       "    <tr>\n",
       "      <th>96</th>\n",
       "      <td>Karimnagar</td>\n",
       "      <td>2016</td>\n",
       "      <td>9167468.0</td>\n",
       "    </tr>\n",
       "    <tr>\n",
       "      <th>108</th>\n",
       "      <td>Khammam</td>\n",
       "      <td>2016</td>\n",
       "      <td>5005031.0</td>\n",
       "    </tr>\n",
       "    <tr>\n",
       "      <th>120</th>\n",
       "      <td>Komaram Bheem Asifabad</td>\n",
       "      <td>2016</td>\n",
       "      <td>1073295.0</td>\n",
       "    </tr>\n",
       "    <tr>\n",
       "      <th>132</th>\n",
       "      <td>Mahabubabad</td>\n",
       "      <td>2016</td>\n",
       "      <td>1213297.0</td>\n",
       "    </tr>\n",
       "    <tr>\n",
       "      <th>144</th>\n",
       "      <td>Mahbubnagar</td>\n",
       "      <td>2016</td>\n",
       "      <td>8304766.0</td>\n",
       "    </tr>\n",
       "    <tr>\n",
       "      <th>156</th>\n",
       "      <td>Mancherial</td>\n",
       "      <td>2016</td>\n",
       "      <td>1081097.0</td>\n",
       "    </tr>\n",
       "    <tr>\n",
       "      <th>168</th>\n",
       "      <td>Medak</td>\n",
       "      <td>2016</td>\n",
       "      <td>3463200.0</td>\n",
       "    </tr>\n",
       "    <tr>\n",
       "      <th>180</th>\n",
       "      <td>Medchal</td>\n",
       "      <td>2016</td>\n",
       "      <td>1431060.0</td>\n",
       "    </tr>\n",
       "    <tr>\n",
       "      <th>192</th>\n",
       "      <td>Mulugu</td>\n",
       "      <td>2019</td>\n",
       "      <td>1819800.0</td>\n",
       "    </tr>\n",
       "    <tr>\n",
       "      <th>204</th>\n",
       "      <td>Nagarkurnool</td>\n",
       "      <td>2016</td>\n",
       "      <td>1661768.0</td>\n",
       "    </tr>\n",
       "    <tr>\n",
       "      <th>216</th>\n",
       "      <td>Nalgonda</td>\n",
       "      <td>2016</td>\n",
       "      <td>5858461.0</td>\n",
       "    </tr>\n",
       "    <tr>\n",
       "      <th>228</th>\n",
       "      <td>Narayanapet</td>\n",
       "      <td>2019</td>\n",
       "      <td>1104780.0</td>\n",
       "    </tr>\n",
       "    <tr>\n",
       "      <th>240</th>\n",
       "      <td>Nirmal</td>\n",
       "      <td>2016</td>\n",
       "      <td>1989905.0</td>\n",
       "    </tr>\n",
       "    <tr>\n",
       "      <th>252</th>\n",
       "      <td>Nizamabad</td>\n",
       "      <td>2016</td>\n",
       "      <td>6442.0</td>\n",
       "    </tr>\n",
       "    <tr>\n",
       "      <th>264</th>\n",
       "      <td>Peddapalli</td>\n",
       "      <td>2016</td>\n",
       "      <td>1076539.0</td>\n",
       "    </tr>\n",
       "    <tr>\n",
       "      <th>276</th>\n",
       "      <td>Rajanna Sircilla</td>\n",
       "      <td>2016</td>\n",
       "      <td>3250096.0</td>\n",
       "    </tr>\n",
       "    <tr>\n",
       "      <th>288</th>\n",
       "      <td>Ranga Reddy</td>\n",
       "      <td>2016</td>\n",
       "      <td>1431060.0</td>\n",
       "    </tr>\n",
       "    <tr>\n",
       "      <th>300</th>\n",
       "      <td>Sangareddy</td>\n",
       "      <td>2016</td>\n",
       "      <td>1851295.0</td>\n",
       "    </tr>\n",
       "    <tr>\n",
       "      <th>312</th>\n",
       "      <td>Siddipet</td>\n",
       "      <td>2016</td>\n",
       "      <td>1431695.0</td>\n",
       "    </tr>\n",
       "    <tr>\n",
       "      <th>324</th>\n",
       "      <td>Suryapet</td>\n",
       "      <td>2016</td>\n",
       "      <td>1073295.0</td>\n",
       "    </tr>\n",
       "    <tr>\n",
       "      <th>336</th>\n",
       "      <td>Vikarabad</td>\n",
       "      <td>2016</td>\n",
       "      <td>1431060.0</td>\n",
       "    </tr>\n",
       "    <tr>\n",
       "      <th>348</th>\n",
       "      <td>Wanaparthy</td>\n",
       "      <td>2016</td>\n",
       "      <td>1133433.0</td>\n",
       "    </tr>\n",
       "    <tr>\n",
       "      <th>360</th>\n",
       "      <td>Warangal (Rural)</td>\n",
       "      <td>2016</td>\n",
       "      <td>1092695.0</td>\n",
       "    </tr>\n",
       "    <tr>\n",
       "      <th>372</th>\n",
       "      <td>Warangal (Urban)</td>\n",
       "      <td>2016</td>\n",
       "      <td>25788035.0</td>\n",
       "    </tr>\n",
       "    <tr>\n",
       "      <th>384</th>\n",
       "      <td>Yadadri Bhongir</td>\n",
       "      <td>2016</td>\n",
       "      <td>2801895.0</td>\n",
       "    </tr>\n",
       "  </tbody>\n",
       "</table>\n",
       "</div>"
      ],
      "text/plain": [
       "                     district  year         Sum\n",
       "0                    Adilabad  2016   5075557.0\n",
       "12      Bhadradri Kothagudem   2016   1962325.0\n",
       "24                  Hyderabad  2016  23394705.0\n",
       "36                   Jagtial   2016   1696372.0\n",
       "48                   Jangaon   2016   1113955.0\n",
       "60   Jayashankar Bhoopalpally  2016   1316695.0\n",
       "72          Jogulamba Gadwal   2016   1596696.0\n",
       "84                 Kamareddy   2016   1073422.0\n",
       "96                Karimnagar   2016   9167468.0\n",
       "108                   Khammam  2016   5005031.0\n",
       "120    Komaram Bheem Asifabad  2016   1073295.0\n",
       "132              Mahabubabad   2016   1213297.0\n",
       "144               Mahbubnagar  2016   8304766.0\n",
       "156                Mancherial  2016   1081097.0\n",
       "168                    Medak   2016   3463200.0\n",
       "180                  Medchal   2016   1431060.0\n",
       "192                    Mulugu  2019   1819800.0\n",
       "204             Nagarkurnool   2016   1661768.0\n",
       "216                  Nalgonda  2016   5858461.0\n",
       "228               Narayanapet  2019   1104780.0\n",
       "240                    Nirmal  2016   1989905.0\n",
       "252                 Nizamabad  2016      6442.0\n",
       "264                Peddapalli  2016   1076539.0\n",
       "276         Rajanna Sircilla   2016   3250096.0\n",
       "288               Ranga Reddy  2016   1431060.0\n",
       "300               Sangareddy   2016   1851295.0\n",
       "312                  Siddipet  2016   1431695.0\n",
       "324                  Suryapet  2016   1073295.0\n",
       "336                 Vikarabad  2016   1431060.0\n",
       "348               Wanaparthy   2016   1133433.0\n",
       "360          Warangal (Rural)  2016   1092695.0\n",
       "372          Warangal (Urban)  2016  25788035.0\n",
       "384           Yadadri Bhongir  2016   2801895.0"
      ]
     },
     "execution_count": 48,
     "metadata": {},
     "output_type": "execute_result"
    }
   ],
   "source": [
    "#left2=df.groupby(by='district').year.min().to_frame(name = 'Min').reset_index()\n",
    "#left1['year']=left1['Min']\n",
    "#right1=df.groupby(by='district').year.max().to_frame(name = 'Max').reset_index()\n",
    "#right1['year']=right1['Max']\n",
    "\n",
    "\n",
    "visitor_begin_value=pd.merge(visitors_min_max_year,visitor_begin_year,how='inner',on=['district','year']).drop_duplicates()\n",
    "visitor_begin_value\n"
   ]
  },
  {
   "cell_type": "code",
   "execution_count": 49,
   "id": "bacd5791",
   "metadata": {},
   "outputs": [
    {
     "data": {
      "text/html": [
       "<div>\n",
       "<style scoped>\n",
       "    .dataframe tbody tr th:only-of-type {\n",
       "        vertical-align: middle;\n",
       "    }\n",
       "\n",
       "    .dataframe tbody tr th {\n",
       "        vertical-align: top;\n",
       "    }\n",
       "\n",
       "    .dataframe thead th {\n",
       "        text-align: right;\n",
       "    }\n",
       "</style>\n",
       "<table border=\"1\" class=\"dataframe\">\n",
       "  <thead>\n",
       "    <tr style=\"text-align: right;\">\n",
       "      <th></th>\n",
       "      <th>district</th>\n",
       "      <th>year</th>\n",
       "      <th>Sum</th>\n",
       "    </tr>\n",
       "  </thead>\n",
       "  <tbody>\n",
       "    <tr>\n",
       "      <th>0</th>\n",
       "      <td>Adilabad</td>\n",
       "      <td>2019</td>\n",
       "      <td>775895.0</td>\n",
       "    </tr>\n",
       "    <tr>\n",
       "      <th>12</th>\n",
       "      <td>Bhadradri Kothagudem</td>\n",
       "      <td>2019</td>\n",
       "      <td>12817737.0</td>\n",
       "    </tr>\n",
       "    <tr>\n",
       "      <th>24</th>\n",
       "      <td>Hyderabad</td>\n",
       "      <td>2019</td>\n",
       "      <td>13802362.0</td>\n",
       "    </tr>\n",
       "    <tr>\n",
       "      <th>36</th>\n",
       "      <td>Jagtial</td>\n",
       "      <td>2019</td>\n",
       "      <td>3086115.0</td>\n",
       "    </tr>\n",
       "    <tr>\n",
       "      <th>48</th>\n",
       "      <td>Jangaon</td>\n",
       "      <td>2019</td>\n",
       "      <td>328890.0</td>\n",
       "    </tr>\n",
       "    <tr>\n",
       "      <th>60</th>\n",
       "      <td>Jayashankar Bhoopalpally</td>\n",
       "      <td>2019</td>\n",
       "      <td>662530.0</td>\n",
       "    </tr>\n",
       "    <tr>\n",
       "      <th>72</th>\n",
       "      <td>Jogulamba Gadwal</td>\n",
       "      <td>2019</td>\n",
       "      <td>2007995.0</td>\n",
       "    </tr>\n",
       "    <tr>\n",
       "      <th>84</th>\n",
       "      <td>Kamareddy</td>\n",
       "      <td>2019</td>\n",
       "      <td>534.0</td>\n",
       "    </tr>\n",
       "    <tr>\n",
       "      <th>96</th>\n",
       "      <td>Karimnagar</td>\n",
       "      <td>2019</td>\n",
       "      <td>77491.0</td>\n",
       "    </tr>\n",
       "    <tr>\n",
       "      <th>108</th>\n",
       "      <td>Khammam</td>\n",
       "      <td>2019</td>\n",
       "      <td>1413440.0</td>\n",
       "    </tr>\n",
       "    <tr>\n",
       "      <th>120</th>\n",
       "      <td>Komaram Bheem Asifabad</td>\n",
       "      <td>2019</td>\n",
       "      <td>19189.0</td>\n",
       "    </tr>\n",
       "    <tr>\n",
       "      <th>132</th>\n",
       "      <td>Mahabubabad</td>\n",
       "      <td>2019</td>\n",
       "      <td>152885.0</td>\n",
       "    </tr>\n",
       "    <tr>\n",
       "      <th>144</th>\n",
       "      <td>Mahbubnagar</td>\n",
       "      <td>2019</td>\n",
       "      <td>2534815.0</td>\n",
       "    </tr>\n",
       "    <tr>\n",
       "      <th>156</th>\n",
       "      <td>Mancherial</td>\n",
       "      <td>2019</td>\n",
       "      <td>269810.0</td>\n",
       "    </tr>\n",
       "    <tr>\n",
       "      <th>168</th>\n",
       "      <td>Medak</td>\n",
       "      <td>2019</td>\n",
       "      <td>5452570.0</td>\n",
       "    </tr>\n",
       "    <tr>\n",
       "      <th>180</th>\n",
       "      <td>Medchal</td>\n",
       "      <td>2019</td>\n",
       "      <td>1431060.0</td>\n",
       "    </tr>\n",
       "    <tr>\n",
       "      <th>192</th>\n",
       "      <td>Mulugu</td>\n",
       "      <td>2019</td>\n",
       "      <td>1819800.0</td>\n",
       "    </tr>\n",
       "    <tr>\n",
       "      <th>204</th>\n",
       "      <td>Nagarkurnool</td>\n",
       "      <td>2019</td>\n",
       "      <td>2093312.0</td>\n",
       "    </tr>\n",
       "    <tr>\n",
       "      <th>216</th>\n",
       "      <td>Nalgonda</td>\n",
       "      <td>2019</td>\n",
       "      <td>140918.0</td>\n",
       "    </tr>\n",
       "    <tr>\n",
       "      <th>228</th>\n",
       "      <td>Narayanapet</td>\n",
       "      <td>2019</td>\n",
       "      <td>1104780.0</td>\n",
       "    </tr>\n",
       "    <tr>\n",
       "      <th>240</th>\n",
       "      <td>Nirmal</td>\n",
       "      <td>2019</td>\n",
       "      <td>3816778.0</td>\n",
       "    </tr>\n",
       "    <tr>\n",
       "      <th>252</th>\n",
       "      <td>Nizamabad</td>\n",
       "      <td>2019</td>\n",
       "      <td>46333.0</td>\n",
       "    </tr>\n",
       "    <tr>\n",
       "      <th>264</th>\n",
       "      <td>Peddapalli</td>\n",
       "      <td>2019</td>\n",
       "      <td>16581.0</td>\n",
       "    </tr>\n",
       "    <tr>\n",
       "      <th>276</th>\n",
       "      <td>Rajanna Sircilla</td>\n",
       "      <td>2019</td>\n",
       "      <td>16832897.0</td>\n",
       "    </tr>\n",
       "    <tr>\n",
       "      <th>288</th>\n",
       "      <td>Ranga Reddy</td>\n",
       "      <td>2019</td>\n",
       "      <td>1431060.0</td>\n",
       "    </tr>\n",
       "    <tr>\n",
       "      <th>300</th>\n",
       "      <td>Sangareddy</td>\n",
       "      <td>2019</td>\n",
       "      <td>4553160.0</td>\n",
       "    </tr>\n",
       "    <tr>\n",
       "      <th>312</th>\n",
       "      <td>Siddipet</td>\n",
       "      <td>2019</td>\n",
       "      <td>2987864.0</td>\n",
       "    </tr>\n",
       "    <tr>\n",
       "      <th>324</th>\n",
       "      <td>Suryapet</td>\n",
       "      <td>2019</td>\n",
       "      <td>1431060.0</td>\n",
       "    </tr>\n",
       "    <tr>\n",
       "      <th>336</th>\n",
       "      <td>Vikarabad</td>\n",
       "      <td>2019</td>\n",
       "      <td>1431060.0</td>\n",
       "    </tr>\n",
       "    <tr>\n",
       "      <th>348</th>\n",
       "      <td>Wanaparthy</td>\n",
       "      <td>2019</td>\n",
       "      <td>298639.0</td>\n",
       "    </tr>\n",
       "    <tr>\n",
       "      <th>360</th>\n",
       "      <td>Warangal (Rural)</td>\n",
       "      <td>2019</td>\n",
       "      <td>353500.0</td>\n",
       "    </tr>\n",
       "    <tr>\n",
       "      <th>372</th>\n",
       "      <td>Warangal (Urban)</td>\n",
       "      <td>2019</td>\n",
       "      <td>1795230.0</td>\n",
       "    </tr>\n",
       "    <tr>\n",
       "      <th>384</th>\n",
       "      <td>Yadadri Bhongir</td>\n",
       "      <td>2019</td>\n",
       "      <td>4489374.0</td>\n",
       "    </tr>\n",
       "  </tbody>\n",
       "</table>\n",
       "</div>"
      ],
      "text/plain": [
       "                     district  year         Sum\n",
       "0                    Adilabad  2019    775895.0\n",
       "12      Bhadradri Kothagudem   2019  12817737.0\n",
       "24                  Hyderabad  2019  13802362.0\n",
       "36                   Jagtial   2019   3086115.0\n",
       "48                   Jangaon   2019    328890.0\n",
       "60   Jayashankar Bhoopalpally  2019    662530.0\n",
       "72          Jogulamba Gadwal   2019   2007995.0\n",
       "84                 Kamareddy   2019       534.0\n",
       "96                Karimnagar   2019     77491.0\n",
       "108                   Khammam  2019   1413440.0\n",
       "120    Komaram Bheem Asifabad  2019     19189.0\n",
       "132              Mahabubabad   2019    152885.0\n",
       "144               Mahbubnagar  2019   2534815.0\n",
       "156                Mancherial  2019    269810.0\n",
       "168                    Medak   2019   5452570.0\n",
       "180                  Medchal   2019   1431060.0\n",
       "192                    Mulugu  2019   1819800.0\n",
       "204             Nagarkurnool   2019   2093312.0\n",
       "216                  Nalgonda  2019    140918.0\n",
       "228               Narayanapet  2019   1104780.0\n",
       "240                    Nirmal  2019   3816778.0\n",
       "252                 Nizamabad  2019     46333.0\n",
       "264                Peddapalli  2019     16581.0\n",
       "276         Rajanna Sircilla   2019  16832897.0\n",
       "288               Ranga Reddy  2019   1431060.0\n",
       "300               Sangareddy   2019   4553160.0\n",
       "312                  Siddipet  2019   2987864.0\n",
       "324                  Suryapet  2019   1431060.0\n",
       "336                 Vikarabad  2019   1431060.0\n",
       "348               Wanaparthy   2019    298639.0\n",
       "360          Warangal (Rural)  2019    353500.0\n",
       "372          Warangal (Urban)  2019   1795230.0\n",
       "384           Yadadri Bhongir  2019   4489374.0"
      ]
     },
     "execution_count": 49,
     "metadata": {},
     "output_type": "execute_result"
    }
   ],
   "source": [
    "visitor_end_value=pd.merge(visitors_min_max_year,visitor_end_year,how='inner',on=['district','year']).drop_duplicates()\n",
    "visitor_end_value\n"
   ]
  },
  {
   "cell_type": "code",
   "execution_count": 50,
   "id": "85c1afbd",
   "metadata": {},
   "outputs": [],
   "source": [
    "visitor_end_value['cagr']=( ( (visitor_end_value['Sum']/visitor_begin_value['Sum']) ** (1/3))-1) *100"
   ]
  },
  {
   "cell_type": "code",
   "execution_count": 51,
   "id": "0d4f75c1",
   "metadata": {},
   "outputs": [
    {
     "data": {
      "text/html": [
       "<div>\n",
       "<style scoped>\n",
       "    .dataframe tbody tr th:only-of-type {\n",
       "        vertical-align: middle;\n",
       "    }\n",
       "\n",
       "    .dataframe tbody tr th {\n",
       "        vertical-align: top;\n",
       "    }\n",
       "\n",
       "    .dataframe thead th {\n",
       "        text-align: right;\n",
       "    }\n",
       "</style>\n",
       "<table border=\"1\" class=\"dataframe\">\n",
       "  <thead>\n",
       "    <tr style=\"text-align: right;\">\n",
       "      <th></th>\n",
       "      <th>district</th>\n",
       "      <th>year</th>\n",
       "      <th>Sum</th>\n",
       "      <th>cagr</th>\n",
       "    </tr>\n",
       "  </thead>\n",
       "  <tbody>\n",
       "    <tr>\n",
       "      <th>0</th>\n",
       "      <td>Adilabad</td>\n",
       "      <td>2019</td>\n",
       "      <td>775895.0</td>\n",
       "      <td>-46.530464</td>\n",
       "    </tr>\n",
       "    <tr>\n",
       "      <th>12</th>\n",
       "      <td>Bhadradri Kothagudem</td>\n",
       "      <td>2019</td>\n",
       "      <td>12817737.0</td>\n",
       "      <td>86.930488</td>\n",
       "    </tr>\n",
       "    <tr>\n",
       "      <th>24</th>\n",
       "      <td>Hyderabad</td>\n",
       "      <td>2019</td>\n",
       "      <td>13802362.0</td>\n",
       "      <td>-16.128976</td>\n",
       "    </tr>\n",
       "    <tr>\n",
       "      <th>36</th>\n",
       "      <td>Jagtial</td>\n",
       "      <td>2019</td>\n",
       "      <td>3086115.0</td>\n",
       "      <td>22.076013</td>\n",
       "    </tr>\n",
       "    <tr>\n",
       "      <th>48</th>\n",
       "      <td>Jangaon</td>\n",
       "      <td>2019</td>\n",
       "      <td>328890.0</td>\n",
       "      <td>-33.412250</td>\n",
       "    </tr>\n",
       "    <tr>\n",
       "      <th>60</th>\n",
       "      <td>Jayashankar Bhoopalpally</td>\n",
       "      <td>2019</td>\n",
       "      <td>662530.0</td>\n",
       "      <td>-20.462222</td>\n",
       "    </tr>\n",
       "    <tr>\n",
       "      <th>72</th>\n",
       "      <td>Jogulamba Gadwal</td>\n",
       "      <td>2019</td>\n",
       "      <td>2007995.0</td>\n",
       "      <td>7.939432</td>\n",
       "    </tr>\n",
       "    <tr>\n",
       "      <th>84</th>\n",
       "      <td>Kamareddy</td>\n",
       "      <td>2019</td>\n",
       "      <td>534.0</td>\n",
       "      <td>-92.076381</td>\n",
       "    </tr>\n",
       "    <tr>\n",
       "      <th>96</th>\n",
       "      <td>Karimnagar</td>\n",
       "      <td>2019</td>\n",
       "      <td>77491.0</td>\n",
       "      <td>-79.629550</td>\n",
       "    </tr>\n",
       "    <tr>\n",
       "      <th>108</th>\n",
       "      <td>Khammam</td>\n",
       "      <td>2019</td>\n",
       "      <td>1413440.0</td>\n",
       "      <td>-34.391989</td>\n",
       "    </tr>\n",
       "    <tr>\n",
       "      <th>120</th>\n",
       "      <td>Komaram Bheem Asifabad</td>\n",
       "      <td>2019</td>\n",
       "      <td>19189.0</td>\n",
       "      <td>-73.851643</td>\n",
       "    </tr>\n",
       "    <tr>\n",
       "      <th>132</th>\n",
       "      <td>Mahabubabad</td>\n",
       "      <td>2019</td>\n",
       "      <td>152885.0</td>\n",
       "      <td>-49.865974</td>\n",
       "    </tr>\n",
       "    <tr>\n",
       "      <th>144</th>\n",
       "      <td>Mahbubnagar</td>\n",
       "      <td>2019</td>\n",
       "      <td>2534815.0</td>\n",
       "      <td>-32.670360</td>\n",
       "    </tr>\n",
       "    <tr>\n",
       "      <th>156</th>\n",
       "      <td>Mancherial</td>\n",
       "      <td>2019</td>\n",
       "      <td>269810.0</td>\n",
       "      <td>-37.040038</td>\n",
       "    </tr>\n",
       "    <tr>\n",
       "      <th>168</th>\n",
       "      <td>Medak</td>\n",
       "      <td>2019</td>\n",
       "      <td>5452570.0</td>\n",
       "      <td>16.334330</td>\n",
       "    </tr>\n",
       "    <tr>\n",
       "      <th>180</th>\n",
       "      <td>Medchal</td>\n",
       "      <td>2019</td>\n",
       "      <td>1431060.0</td>\n",
       "      <td>0.000000</td>\n",
       "    </tr>\n",
       "    <tr>\n",
       "      <th>192</th>\n",
       "      <td>Mulugu</td>\n",
       "      <td>2019</td>\n",
       "      <td>1819800.0</td>\n",
       "      <td>0.000000</td>\n",
       "    </tr>\n",
       "    <tr>\n",
       "      <th>204</th>\n",
       "      <td>Nagarkurnool</td>\n",
       "      <td>2019</td>\n",
       "      <td>2093312.0</td>\n",
       "      <td>7.999362</td>\n",
       "    </tr>\n",
       "    <tr>\n",
       "      <th>216</th>\n",
       "      <td>Nalgonda</td>\n",
       "      <td>2019</td>\n",
       "      <td>140918.0</td>\n",
       "      <td>-71.133488</td>\n",
       "    </tr>\n",
       "    <tr>\n",
       "      <th>228</th>\n",
       "      <td>Narayanapet</td>\n",
       "      <td>2019</td>\n",
       "      <td>1104780.0</td>\n",
       "      <td>0.000000</td>\n",
       "    </tr>\n",
       "    <tr>\n",
       "      <th>240</th>\n",
       "      <td>Nirmal</td>\n",
       "      <td>2019</td>\n",
       "      <td>3816778.0</td>\n",
       "      <td>24.247651</td>\n",
       "    </tr>\n",
       "    <tr>\n",
       "      <th>252</th>\n",
       "      <td>Nizamabad</td>\n",
       "      <td>2019</td>\n",
       "      <td>46333.0</td>\n",
       "      <td>93.029299</td>\n",
       "    </tr>\n",
       "    <tr>\n",
       "      <th>264</th>\n",
       "      <td>Peddapalli</td>\n",
       "      <td>2019</td>\n",
       "      <td>16581.0</td>\n",
       "      <td>-75.119430</td>\n",
       "    </tr>\n",
       "    <tr>\n",
       "      <th>276</th>\n",
       "      <td>Rajanna Sircilla</td>\n",
       "      <td>2019</td>\n",
       "      <td>16832897.0</td>\n",
       "      <td>73.016515</td>\n",
       "    </tr>\n",
       "    <tr>\n",
       "      <th>288</th>\n",
       "      <td>Ranga Reddy</td>\n",
       "      <td>2019</td>\n",
       "      <td>1431060.0</td>\n",
       "      <td>0.000000</td>\n",
       "    </tr>\n",
       "    <tr>\n",
       "      <th>300</th>\n",
       "      <td>Sangareddy</td>\n",
       "      <td>2019</td>\n",
       "      <td>4553160.0</td>\n",
       "      <td>34.983006</td>\n",
       "    </tr>\n",
       "    <tr>\n",
       "      <th>312</th>\n",
       "      <td>Siddipet</td>\n",
       "      <td>2019</td>\n",
       "      <td>2987864.0</td>\n",
       "      <td>27.791933</td>\n",
       "    </tr>\n",
       "    <tr>\n",
       "      <th>324</th>\n",
       "      <td>Suryapet</td>\n",
       "      <td>2019</td>\n",
       "      <td>1431060.0</td>\n",
       "      <td>10.064242</td>\n",
       "    </tr>\n",
       "    <tr>\n",
       "      <th>336</th>\n",
       "      <td>Vikarabad</td>\n",
       "      <td>2019</td>\n",
       "      <td>1431060.0</td>\n",
       "      <td>0.000000</td>\n",
       "    </tr>\n",
       "    <tr>\n",
       "      <th>348</th>\n",
       "      <td>Wanaparthy</td>\n",
       "      <td>2019</td>\n",
       "      <td>298639.0</td>\n",
       "      <td>-35.891312</td>\n",
       "    </tr>\n",
       "    <tr>\n",
       "      <th>360</th>\n",
       "      <td>Warangal (Rural)</td>\n",
       "      <td>2019</td>\n",
       "      <td>353500.0</td>\n",
       "      <td>-31.351642</td>\n",
       "    </tr>\n",
       "    <tr>\n",
       "      <th>372</th>\n",
       "      <td>Warangal (Urban)</td>\n",
       "      <td>2019</td>\n",
       "      <td>1795230.0</td>\n",
       "      <td>-58.862874</td>\n",
       "    </tr>\n",
       "    <tr>\n",
       "      <th>384</th>\n",
       "      <td>Yadadri Bhongir</td>\n",
       "      <td>2019</td>\n",
       "      <td>4489374.0</td>\n",
       "      <td>17.015837</td>\n",
       "    </tr>\n",
       "  </tbody>\n",
       "</table>\n",
       "</div>"
      ],
      "text/plain": [
       "                     district  year         Sum       cagr\n",
       "0                    Adilabad  2019    775895.0 -46.530464\n",
       "12      Bhadradri Kothagudem   2019  12817737.0  86.930488\n",
       "24                  Hyderabad  2019  13802362.0 -16.128976\n",
       "36                   Jagtial   2019   3086115.0  22.076013\n",
       "48                   Jangaon   2019    328890.0 -33.412250\n",
       "60   Jayashankar Bhoopalpally  2019    662530.0 -20.462222\n",
       "72          Jogulamba Gadwal   2019   2007995.0   7.939432\n",
       "84                 Kamareddy   2019       534.0 -92.076381\n",
       "96                Karimnagar   2019     77491.0 -79.629550\n",
       "108                   Khammam  2019   1413440.0 -34.391989\n",
       "120    Komaram Bheem Asifabad  2019     19189.0 -73.851643\n",
       "132              Mahabubabad   2019    152885.0 -49.865974\n",
       "144               Mahbubnagar  2019   2534815.0 -32.670360\n",
       "156                Mancherial  2019    269810.0 -37.040038\n",
       "168                    Medak   2019   5452570.0  16.334330\n",
       "180                  Medchal   2019   1431060.0   0.000000\n",
       "192                    Mulugu  2019   1819800.0   0.000000\n",
       "204             Nagarkurnool   2019   2093312.0   7.999362\n",
       "216                  Nalgonda  2019    140918.0 -71.133488\n",
       "228               Narayanapet  2019   1104780.0   0.000000\n",
       "240                    Nirmal  2019   3816778.0  24.247651\n",
       "252                 Nizamabad  2019     46333.0  93.029299\n",
       "264                Peddapalli  2019     16581.0 -75.119430\n",
       "276         Rajanna Sircilla   2019  16832897.0  73.016515\n",
       "288               Ranga Reddy  2019   1431060.0   0.000000\n",
       "300               Sangareddy   2019   4553160.0  34.983006\n",
       "312                  Siddipet  2019   2987864.0  27.791933\n",
       "324                  Suryapet  2019   1431060.0  10.064242\n",
       "336                 Vikarabad  2019   1431060.0   0.000000\n",
       "348               Wanaparthy   2019    298639.0 -35.891312\n",
       "360          Warangal (Rural)  2019    353500.0 -31.351642\n",
       "372          Warangal (Urban)  2019   1795230.0 -58.862874\n",
       "384           Yadadri Bhongir  2019   4489374.0  17.015837"
      ]
     },
     "execution_count": 51,
     "metadata": {},
     "output_type": "execute_result"
    }
   ],
   "source": [
    "visitor_end_value"
   ]
  },
  {
   "cell_type": "code",
   "execution_count": 52,
   "id": "1ede4afe",
   "metadata": {},
   "outputs": [
    {
     "data": {
      "text/html": [
       "<div>\n",
       "<style scoped>\n",
       "    .dataframe tbody tr th:only-of-type {\n",
       "        vertical-align: middle;\n",
       "    }\n",
       "\n",
       "    .dataframe tbody tr th {\n",
       "        vertical-align: top;\n",
       "    }\n",
       "\n",
       "    .dataframe thead th {\n",
       "        text-align: right;\n",
       "    }\n",
       "</style>\n",
       "<table border=\"1\" class=\"dataframe\">\n",
       "  <thead>\n",
       "    <tr style=\"text-align: right;\">\n",
       "      <th></th>\n",
       "      <th>district</th>\n",
       "      <th>year</th>\n",
       "      <th>Sum</th>\n",
       "      <th>cagr</th>\n",
       "    </tr>\n",
       "  </thead>\n",
       "  <tbody>\n",
       "    <tr>\n",
       "      <th>0</th>\n",
       "      <td>Adilabad</td>\n",
       "      <td>2019</td>\n",
       "      <td>775895.0</td>\n",
       "      <td>-46.530464</td>\n",
       "    </tr>\n",
       "    <tr>\n",
       "      <th>12</th>\n",
       "      <td>Bhadradri Kothagudem</td>\n",
       "      <td>2019</td>\n",
       "      <td>12817737.0</td>\n",
       "      <td>86.930488</td>\n",
       "    </tr>\n",
       "    <tr>\n",
       "      <th>24</th>\n",
       "      <td>Hyderabad</td>\n",
       "      <td>2019</td>\n",
       "      <td>13802362.0</td>\n",
       "      <td>-16.128976</td>\n",
       "    </tr>\n",
       "    <tr>\n",
       "      <th>36</th>\n",
       "      <td>Jagtial</td>\n",
       "      <td>2019</td>\n",
       "      <td>3086115.0</td>\n",
       "      <td>22.076013</td>\n",
       "    </tr>\n",
       "    <tr>\n",
       "      <th>48</th>\n",
       "      <td>Jangaon</td>\n",
       "      <td>2019</td>\n",
       "      <td>328890.0</td>\n",
       "      <td>-33.412250</td>\n",
       "    </tr>\n",
       "    <tr>\n",
       "      <th>60</th>\n",
       "      <td>Jayashankar Bhoopalpally</td>\n",
       "      <td>2019</td>\n",
       "      <td>662530.0</td>\n",
       "      <td>-20.462222</td>\n",
       "    </tr>\n",
       "    <tr>\n",
       "      <th>72</th>\n",
       "      <td>Jogulamba Gadwal</td>\n",
       "      <td>2019</td>\n",
       "      <td>2007995.0</td>\n",
       "      <td>7.939432</td>\n",
       "    </tr>\n",
       "    <tr>\n",
       "      <th>84</th>\n",
       "      <td>Kamareddy</td>\n",
       "      <td>2019</td>\n",
       "      <td>534.0</td>\n",
       "      <td>-92.076381</td>\n",
       "    </tr>\n",
       "    <tr>\n",
       "      <th>96</th>\n",
       "      <td>Karimnagar</td>\n",
       "      <td>2019</td>\n",
       "      <td>77491.0</td>\n",
       "      <td>-79.629550</td>\n",
       "    </tr>\n",
       "    <tr>\n",
       "      <th>108</th>\n",
       "      <td>Khammam</td>\n",
       "      <td>2019</td>\n",
       "      <td>1413440.0</td>\n",
       "      <td>-34.391989</td>\n",
       "    </tr>\n",
       "    <tr>\n",
       "      <th>120</th>\n",
       "      <td>Komaram Bheem Asifabad</td>\n",
       "      <td>2019</td>\n",
       "      <td>19189.0</td>\n",
       "      <td>-73.851643</td>\n",
       "    </tr>\n",
       "    <tr>\n",
       "      <th>132</th>\n",
       "      <td>Mahabubabad</td>\n",
       "      <td>2019</td>\n",
       "      <td>152885.0</td>\n",
       "      <td>-49.865974</td>\n",
       "    </tr>\n",
       "    <tr>\n",
       "      <th>144</th>\n",
       "      <td>Mahbubnagar</td>\n",
       "      <td>2019</td>\n",
       "      <td>2534815.0</td>\n",
       "      <td>-32.670360</td>\n",
       "    </tr>\n",
       "    <tr>\n",
       "      <th>156</th>\n",
       "      <td>Mancherial</td>\n",
       "      <td>2019</td>\n",
       "      <td>269810.0</td>\n",
       "      <td>-37.040038</td>\n",
       "    </tr>\n",
       "    <tr>\n",
       "      <th>168</th>\n",
       "      <td>Medak</td>\n",
       "      <td>2019</td>\n",
       "      <td>5452570.0</td>\n",
       "      <td>16.334330</td>\n",
       "    </tr>\n",
       "    <tr>\n",
       "      <th>180</th>\n",
       "      <td>Medchal</td>\n",
       "      <td>2019</td>\n",
       "      <td>1431060.0</td>\n",
       "      <td>0.000000</td>\n",
       "    </tr>\n",
       "    <tr>\n",
       "      <th>192</th>\n",
       "      <td>Mulugu</td>\n",
       "      <td>2019</td>\n",
       "      <td>1819800.0</td>\n",
       "      <td>0.000000</td>\n",
       "    </tr>\n",
       "    <tr>\n",
       "      <th>204</th>\n",
       "      <td>Nagarkurnool</td>\n",
       "      <td>2019</td>\n",
       "      <td>2093312.0</td>\n",
       "      <td>7.999362</td>\n",
       "    </tr>\n",
       "    <tr>\n",
       "      <th>216</th>\n",
       "      <td>Nalgonda</td>\n",
       "      <td>2019</td>\n",
       "      <td>140918.0</td>\n",
       "      <td>-71.133488</td>\n",
       "    </tr>\n",
       "    <tr>\n",
       "      <th>228</th>\n",
       "      <td>Narayanapet</td>\n",
       "      <td>2019</td>\n",
       "      <td>1104780.0</td>\n",
       "      <td>0.000000</td>\n",
       "    </tr>\n",
       "    <tr>\n",
       "      <th>240</th>\n",
       "      <td>Nirmal</td>\n",
       "      <td>2019</td>\n",
       "      <td>3816778.0</td>\n",
       "      <td>24.247651</td>\n",
       "    </tr>\n",
       "    <tr>\n",
       "      <th>252</th>\n",
       "      <td>Nizamabad</td>\n",
       "      <td>2019</td>\n",
       "      <td>46333.0</td>\n",
       "      <td>93.029299</td>\n",
       "    </tr>\n",
       "    <tr>\n",
       "      <th>264</th>\n",
       "      <td>Peddapalli</td>\n",
       "      <td>2019</td>\n",
       "      <td>16581.0</td>\n",
       "      <td>-75.119430</td>\n",
       "    </tr>\n",
       "    <tr>\n",
       "      <th>276</th>\n",
       "      <td>Rajanna Sircilla</td>\n",
       "      <td>2019</td>\n",
       "      <td>16832897.0</td>\n",
       "      <td>73.016515</td>\n",
       "    </tr>\n",
       "    <tr>\n",
       "      <th>288</th>\n",
       "      <td>Ranga Reddy</td>\n",
       "      <td>2019</td>\n",
       "      <td>1431060.0</td>\n",
       "      <td>0.000000</td>\n",
       "    </tr>\n",
       "    <tr>\n",
       "      <th>300</th>\n",
       "      <td>Sangareddy</td>\n",
       "      <td>2019</td>\n",
       "      <td>4553160.0</td>\n",
       "      <td>34.983006</td>\n",
       "    </tr>\n",
       "    <tr>\n",
       "      <th>312</th>\n",
       "      <td>Siddipet</td>\n",
       "      <td>2019</td>\n",
       "      <td>2987864.0</td>\n",
       "      <td>27.791933</td>\n",
       "    </tr>\n",
       "    <tr>\n",
       "      <th>324</th>\n",
       "      <td>Suryapet</td>\n",
       "      <td>2019</td>\n",
       "      <td>1431060.0</td>\n",
       "      <td>10.064242</td>\n",
       "    </tr>\n",
       "    <tr>\n",
       "      <th>336</th>\n",
       "      <td>Vikarabad</td>\n",
       "      <td>2019</td>\n",
       "      <td>1431060.0</td>\n",
       "      <td>0.000000</td>\n",
       "    </tr>\n",
       "    <tr>\n",
       "      <th>348</th>\n",
       "      <td>Wanaparthy</td>\n",
       "      <td>2019</td>\n",
       "      <td>298639.0</td>\n",
       "      <td>-35.891312</td>\n",
       "    </tr>\n",
       "    <tr>\n",
       "      <th>360</th>\n",
       "      <td>Warangal (Rural)</td>\n",
       "      <td>2019</td>\n",
       "      <td>353500.0</td>\n",
       "      <td>-31.351642</td>\n",
       "    </tr>\n",
       "    <tr>\n",
       "      <th>372</th>\n",
       "      <td>Warangal (Urban)</td>\n",
       "      <td>2019</td>\n",
       "      <td>1795230.0</td>\n",
       "      <td>-58.862874</td>\n",
       "    </tr>\n",
       "    <tr>\n",
       "      <th>384</th>\n",
       "      <td>Yadadri Bhongir</td>\n",
       "      <td>2019</td>\n",
       "      <td>4489374.0</td>\n",
       "      <td>17.015837</td>\n",
       "    </tr>\n",
       "  </tbody>\n",
       "</table>\n",
       "</div>"
      ],
      "text/plain": [
       "                     district  year         Sum       cagr\n",
       "0                    Adilabad  2019    775895.0 -46.530464\n",
       "12      Bhadradri Kothagudem   2019  12817737.0  86.930488\n",
       "24                  Hyderabad  2019  13802362.0 -16.128976\n",
       "36                   Jagtial   2019   3086115.0  22.076013\n",
       "48                   Jangaon   2019    328890.0 -33.412250\n",
       "60   Jayashankar Bhoopalpally  2019    662530.0 -20.462222\n",
       "72          Jogulamba Gadwal   2019   2007995.0   7.939432\n",
       "84                 Kamareddy   2019       534.0 -92.076381\n",
       "96                Karimnagar   2019     77491.0 -79.629550\n",
       "108                   Khammam  2019   1413440.0 -34.391989\n",
       "120    Komaram Bheem Asifabad  2019     19189.0 -73.851643\n",
       "132              Mahabubabad   2019    152885.0 -49.865974\n",
       "144               Mahbubnagar  2019   2534815.0 -32.670360\n",
       "156                Mancherial  2019    269810.0 -37.040038\n",
       "168                    Medak   2019   5452570.0  16.334330\n",
       "180                  Medchal   2019   1431060.0   0.000000\n",
       "192                    Mulugu  2019   1819800.0   0.000000\n",
       "204             Nagarkurnool   2019   2093312.0   7.999362\n",
       "216                  Nalgonda  2019    140918.0 -71.133488\n",
       "228               Narayanapet  2019   1104780.0   0.000000\n",
       "240                    Nirmal  2019   3816778.0  24.247651\n",
       "252                 Nizamabad  2019     46333.0  93.029299\n",
       "264                Peddapalli  2019     16581.0 -75.119430\n",
       "276         Rajanna Sircilla   2019  16832897.0  73.016515\n",
       "288               Ranga Reddy  2019   1431060.0   0.000000\n",
       "300               Sangareddy   2019   4553160.0  34.983006\n",
       "312                  Siddipet  2019   2987864.0  27.791933\n",
       "324                  Suryapet  2019   1431060.0  10.064242\n",
       "336                 Vikarabad  2019   1431060.0   0.000000\n",
       "348               Wanaparthy   2019    298639.0 -35.891312\n",
       "360          Warangal (Rural)  2019    353500.0 -31.351642\n",
       "372          Warangal (Urban)  2019   1795230.0 -58.862874\n",
       "384           Yadadri Bhongir  2019   4489374.0  17.015837"
      ]
     },
     "execution_count": 52,
     "metadata": {},
     "output_type": "execute_result"
    }
   ],
   "source": [
    "visitor_end_value"
   ]
  },
  {
   "cell_type": "code",
   "execution_count": 53,
   "id": "85d5450a",
   "metadata": {},
   "outputs": [
    {
     "data": {
      "text/plain": [
       "48"
      ]
     },
     "execution_count": 53,
     "metadata": {},
     "output_type": "execute_result"
    }
   ],
   "source": [
    "len(df[df['district']=='Hyderabad'])"
   ]
  },
  {
   "cell_type": "code",
   "execution_count": null,
   "id": "c36d408a",
   "metadata": {},
   "outputs": [],
   "source": []
  },
  {
   "cell_type": "code",
   "execution_count": null,
   "id": "96044a26",
   "metadata": {},
   "outputs": [],
   "source": []
  },
  {
   "cell_type": "code",
   "execution_count": null,
   "id": "dac5996f",
   "metadata": {},
   "outputs": [],
   "source": []
  },
  {
   "cell_type": "code",
   "execution_count": null,
   "id": "bbb1f9ac",
   "metadata": {},
   "outputs": [],
   "source": []
  },
  {
   "cell_type": "markdown",
   "id": "1e62c30a",
   "metadata": {},
   "source": [
    "top3 districts Based on cagr"
   ]
  },
  {
   "cell_type": "code",
   "execution_count": 54,
   "id": "76638910",
   "metadata": {},
   "outputs": [
    {
     "data": {
      "text/html": [
       "<div>\n",
       "<style scoped>\n",
       "    .dataframe tbody tr th:only-of-type {\n",
       "        vertical-align: middle;\n",
       "    }\n",
       "\n",
       "    .dataframe tbody tr th {\n",
       "        vertical-align: top;\n",
       "    }\n",
       "\n",
       "    .dataframe thead th {\n",
       "        text-align: right;\n",
       "    }\n",
       "</style>\n",
       "<table border=\"1\" class=\"dataframe\">\n",
       "  <thead>\n",
       "    <tr style=\"text-align: right;\">\n",
       "      <th></th>\n",
       "      <th>district</th>\n",
       "      <th>year</th>\n",
       "      <th>Sum</th>\n",
       "      <th>cagr</th>\n",
       "    </tr>\n",
       "  </thead>\n",
       "  <tbody>\n",
       "    <tr>\n",
       "      <th>252</th>\n",
       "      <td>Nizamabad</td>\n",
       "      <td>2019</td>\n",
       "      <td>46333.0</td>\n",
       "      <td>93.029299</td>\n",
       "    </tr>\n",
       "    <tr>\n",
       "      <th>12</th>\n",
       "      <td>Bhadradri Kothagudem</td>\n",
       "      <td>2019</td>\n",
       "      <td>12817737.0</td>\n",
       "      <td>86.930488</td>\n",
       "    </tr>\n",
       "    <tr>\n",
       "      <th>276</th>\n",
       "      <td>Rajanna Sircilla</td>\n",
       "      <td>2019</td>\n",
       "      <td>16832897.0</td>\n",
       "      <td>73.016515</td>\n",
       "    </tr>\n",
       "  </tbody>\n",
       "</table>\n",
       "</div>"
      ],
      "text/plain": [
       "                  district  year         Sum       cagr\n",
       "252              Nizamabad  2019     46333.0  93.029299\n",
       "12   Bhadradri Kothagudem   2019  12817737.0  86.930488\n",
       "276      Rajanna Sircilla   2019  16832897.0  73.016515"
      ]
     },
     "execution_count": 54,
     "metadata": {},
     "output_type": "execute_result"
    }
   ],
   "source": [
    "visitor_end_value.sort_values(by='cagr',ascending=False).head(3)"
   ]
  },
  {
   "cell_type": "code",
   "execution_count": 55,
   "id": "b3596906",
   "metadata": {},
   "outputs": [
    {
     "data": {
      "text/plain": [
       "<Axes: xlabel='district', ylabel='cagr'>"
      ]
     },
     "execution_count": 55,
     "metadata": {},
     "output_type": "execute_result"
    },
    {
     "data": {
      "image/png": "[encoded data removed]",
      "text/plain": [
       "<Figure size 600x600 with 1 Axes>"
      ]
     },
     "metadata": {},
     "output_type": "display_data"
    }
   ],
   "source": [
    "plt.figure(figsize=(6,6))\n",
    "sns.barplot(x=visitor_end_value.sort_values(by='cagr',ascending=False).head(3)['district'],\n",
    "            y=visitor_end_value.sort_values(by='cagr',ascending=False).head(3)['cagr'])"
   ]
  },
  {
   "cell_type": "markdown",
   "id": "38bb49ff",
   "metadata": {},
   "source": [
    "bottom3 districts Based on cagr"
   ]
  },
  {
   "cell_type": "code",
   "execution_count": 56,
   "id": "ea66464c",
   "metadata": {},
   "outputs": [
    {
     "data": {
      "text/html": [
       "<div>\n",
       "<style scoped>\n",
       "    .dataframe tbody tr th:only-of-type {\n",
       "        vertical-align: middle;\n",
       "    }\n",
       "\n",
       "    .dataframe tbody tr th {\n",
       "        vertical-align: top;\n",
       "    }\n",
       "\n",
       "    .dataframe thead th {\n",
       "        text-align: right;\n",
       "    }\n",
       "</style>\n",
       "<table border=\"1\" class=\"dataframe\">\n",
       "  <thead>\n",
       "    <tr style=\"text-align: right;\">\n",
       "      <th></th>\n",
       "      <th>district</th>\n",
       "      <th>year</th>\n",
       "      <th>Sum</th>\n",
       "      <th>cagr</th>\n",
       "    </tr>\n",
       "  </thead>\n",
       "  <tbody>\n",
       "    <tr>\n",
       "      <th>264</th>\n",
       "      <td>Peddapalli</td>\n",
       "      <td>2019</td>\n",
       "      <td>16581.0</td>\n",
       "      <td>-75.119430</td>\n",
       "    </tr>\n",
       "    <tr>\n",
       "      <th>96</th>\n",
       "      <td>Karimnagar</td>\n",
       "      <td>2019</td>\n",
       "      <td>77491.0</td>\n",
       "      <td>-79.629550</td>\n",
       "    </tr>\n",
       "    <tr>\n",
       "      <th>84</th>\n",
       "      <td>Kamareddy</td>\n",
       "      <td>2019</td>\n",
       "      <td>534.0</td>\n",
       "      <td>-92.076381</td>\n",
       "    </tr>\n",
       "  </tbody>\n",
       "</table>\n",
       "</div>"
      ],
      "text/plain": [
       "        district  year      Sum       cagr\n",
       "264   Peddapalli  2019  16581.0 -75.119430\n",
       "96   Karimnagar   2019  77491.0 -79.629550\n",
       "84    Kamareddy   2019    534.0 -92.076381"
      ]
     },
     "execution_count": 56,
     "metadata": {},
     "output_type": "execute_result"
    }
   ],
   "source": [
    "visitor_end_value.sort_values(by='cagr',ascending=False).tail(3)"
   ]
  },
  {
   "cell_type": "code",
   "execution_count": 57,
   "id": "0dafce48",
   "metadata": {},
   "outputs": [
    {
     "data": {
      "text/html": [
       "<div>\n",
       "<style scoped>\n",
       "    .dataframe tbody tr th:only-of-type {\n",
       "        vertical-align: middle;\n",
       "    }\n",
       "\n",
       "    .dataframe tbody tr th {\n",
       "        vertical-align: top;\n",
       "    }\n",
       "\n",
       "    .dataframe thead th {\n",
       "        text-align: right;\n",
       "    }\n",
       "</style>\n",
       "<table border=\"1\" class=\"dataframe\">\n",
       "  <thead>\n",
       "    <tr style=\"text-align: right;\">\n",
       "      <th></th>\n",
       "      <th>district</th>\n",
       "      <th>date</th>\n",
       "      <th>month</th>\n",
       "      <th>year</th>\n",
       "      <th>visitors</th>\n",
       "    </tr>\n",
       "  </thead>\n",
       "  <tbody>\n",
       "    <tr>\n",
       "      <th>0</th>\n",
       "      <td>Adilabad</td>\n",
       "      <td>01-01-2016</td>\n",
       "      <td>January</td>\n",
       "      <td>2016</td>\n",
       "      <td>792136.0</td>\n",
       "    </tr>\n",
       "    <tr>\n",
       "      <th>1</th>\n",
       "      <td>Adilabad</td>\n",
       "      <td>01-02-2016</td>\n",
       "      <td>February</td>\n",
       "      <td>2016</td>\n",
       "      <td>937820.0</td>\n",
       "    </tr>\n",
       "    <tr>\n",
       "      <th>2</th>\n",
       "      <td>Adilabad</td>\n",
       "      <td>01-03-2016</td>\n",
       "      <td>March</td>\n",
       "      <td>2016</td>\n",
       "      <td>582946.0</td>\n",
       "    </tr>\n",
       "    <tr>\n",
       "      <th>3</th>\n",
       "      <td>Adilabad</td>\n",
       "      <td>01-04-2016</td>\n",
       "      <td>April</td>\n",
       "      <td>2016</td>\n",
       "      <td>341948.0</td>\n",
       "    </tr>\n",
       "    <tr>\n",
       "      <th>4</th>\n",
       "      <td>Adilabad</td>\n",
       "      <td>01-05-2016</td>\n",
       "      <td>May</td>\n",
       "      <td>2016</td>\n",
       "      <td>252887.0</td>\n",
       "    </tr>\n",
       "  </tbody>\n",
       "</table>\n",
       "</div>"
      ],
      "text/plain": [
       "   district        date     month  year  visitors\n",
       "0  Adilabad  01-01-2016   January  2016  792136.0\n",
       "1  Adilabad  01-02-2016  February  2016  937820.0\n",
       "2  Adilabad  01-03-2016     March  2016  582946.0\n",
       "3  Adilabad  01-04-2016     April  2016  341948.0\n",
       "4  Adilabad  01-05-2016       May  2016  252887.0"
      ]
     },
     "execution_count": 57,
     "metadata": {},
     "output_type": "execute_result"
    }
   ],
   "source": [
    "df.head()"
   ]
  },
  {
   "cell_type": "code",
   "execution_count": 58,
   "id": "0c1100b7",
   "metadata": {},
   "outputs": [
    {
     "data": {
      "text/plain": [
       "month\n",
       "April        28010023.0\n",
       "August       26248204.0\n",
       "December     31499793.0\n",
       "February     62130393.0\n",
       "January      45437277.0\n",
       "July         23108377.0\n",
       "June         47192229.0\n",
       "March        32794875.0\n",
       "May          26935599.0\n",
       "November     25218011.0\n",
       "October      24163495.0\n",
       "September    24746348.0\n",
       "Name: visitors, dtype: float64"
      ]
     },
     "execution_count": 58,
     "metadata": {},
     "output_type": "execute_result"
    }
   ],
   "source": [
    "df.groupby(by='month').visitors.sum()"
   ]
  },
  {
   "cell_type": "markdown",
   "id": "d8403288",
   "metadata": {},
   "source": [
    "PEAK SEASON MONTHS FOR HYDERABAD"
   ]
  },
  {
   "cell_type": "code",
   "execution_count": 59,
   "id": "a904531d",
   "metadata": {},
   "outputs": [
    {
     "data": {
      "text/plain": [
       "month\n",
       "June        16897783.0\n",
       "December     9338637.0\n",
       "October      6552397.0\n",
       "Name: visitors, dtype: float64"
      ]
     },
     "execution_count": 59,
     "metadata": {},
     "output_type": "execute_result"
    }
   ],
   "source": [
    "df[df['district']=='Hyderabad'].groupby(by='month').visitors.sum().sort_values(ascending=False).head(3)"
   ]
  },
  {
   "cell_type": "markdown",
   "id": "7dc1fce0",
   "metadata": {},
   "source": [
    "LOW SEASON MONTHS FOR HYDERABAD"
   ]
  },
  {
   "cell_type": "code",
   "execution_count": 60,
   "id": "e890a755",
   "metadata": {},
   "outputs": [
    {
     "data": {
      "text/plain": [
       "month\n",
       "September    5312283.0\n",
       "March        5227626.0\n",
       "February     5014430.0\n",
       "Name: visitors, dtype: float64"
      ]
     },
     "execution_count": 60,
     "metadata": {},
     "output_type": "execute_result"
    }
   ],
   "source": [
    "df[df['district']=='Hyderabad'].groupby(by='month').visitors.sum().sort_values(ascending=False).tail(3)"
   ]
  },
  {
   "cell_type": "code",
   "execution_count": 61,
   "id": "00c0f94e",
   "metadata": {},
   "outputs": [
    {
     "data": {
      "text/plain": [
       "([<matplotlib.patches.Wedge at 0x261bb036560>,\n",
       "  <matplotlib.patches.Wedge at 0x261bb036470>,\n",
       "  <matplotlib.patches.Wedge at 0x261bb036e30>,\n",
       "  <matplotlib.patches.Wedge at 0x261bb0372b0>,\n",
       "  <matplotlib.patches.Wedge at 0x261bb037730>,\n",
       "  <matplotlib.patches.Wedge at 0x261bb037bb0>,\n",
       "  <matplotlib.patches.Wedge at 0x261ba9e4070>,\n",
       "  <matplotlib.patches.Wedge at 0x261ba9e44f0>,\n",
       "  <matplotlib.patches.Wedge at 0x261ba9e4970>,\n",
       "  <matplotlib.patches.Wedge at 0x261ba9e4d90>,\n",
       "  <matplotlib.patches.Wedge at 0x261bb036530>,\n",
       "  <matplotlib.patches.Wedge at 0x261ba9e5660>],\n",
       " [Text(1.071179876688186, 0.2501473001618911, 'April'),\n",
       "  Text(0.8593499729236618, 0.6866714090714, 'August'),\n",
       "  Text(0.35812582575088037, 1.0400701384667528, 'December'),\n",
       "  Text(-0.22481088783375777, 1.0767822735870969, 'February'),\n",
       "  Text(-0.6526521312114891, 0.8854632661071273, 'January'),\n",
       "  Text(-0.9725689084003889, 0.5139160616412726, 'July'),\n",
       "  Text(-1.0315970187450074, -0.38184760169001086, 'June'),\n",
       "  Text(-0.415985989159799, -1.0183101967587007, 'March'),\n",
       "  Text(0.03786875938367922, -1.099347969053812, 'May'),\n",
       "  Text(0.49974947967391514, -0.9799236998693578, 'November'),\n",
       "  Text(0.8802147064289839, -0.6597136277098858, 'October'),\n",
       "  Text(1.0783099401532001, -0.2173652984420517, 'September')])"
      ]
     },
     "execution_count": 61,
     "metadata": {},
     "output_type": "execute_result"
    },
    {
     "data": {
      "image/png": "[encoded data removed]",
      "text/plain": [
       "<Figure size 1000x700 with 1 Axes>"
      ]
     },
     "metadata": {},
     "output_type": "display_data"
    }
   ],
   "source": [
    "fig = plt.figure(figsize =(10, 7))\n",
    "plt.pie(df[df['district']=='Hyderabad'].groupby(by='month').visitors.sum().values, labels = df[df['district']=='Hyderabad'].groupby(by='month').visitors.sum().index)"
   ]
  },
  {
   "cell_type": "code",
   "execution_count": 62,
   "id": "921cb8cc",
   "metadata": {},
   "outputs": [],
   "source": [
    "df5=pd.read_csv('foreign_visitors_2016.csv')"
   ]
  },
  {
   "cell_type": "code",
   "execution_count": 63,
   "id": "c46fb9d6",
   "metadata": {},
   "outputs": [
    {
     "data": {
      "text/html": [
       "<div>\n",
       "<style scoped>\n",
       "    .dataframe tbody tr th:only-of-type {\n",
       "        vertical-align: middle;\n",
       "    }\n",
       "\n",
       "    .dataframe tbody tr th {\n",
       "        vertical-align: top;\n",
       "    }\n",
       "\n",
       "    .dataframe thead th {\n",
       "        text-align: right;\n",
       "    }\n",
       "</style>\n",
       "<table border=\"1\" class=\"dataframe\">\n",
       "  <thead>\n",
       "    <tr style=\"text-align: right;\">\n",
       "      <th></th>\n",
       "      <th>district</th>\n",
       "      <th>date</th>\n",
       "      <th>month</th>\n",
       "      <th>year</th>\n",
       "      <th>visitors</th>\n",
       "    </tr>\n",
       "  </thead>\n",
       "  <tbody>\n",
       "    <tr>\n",
       "      <th>0</th>\n",
       "      <td>Adilabad</td>\n",
       "      <td>01-01-2016</td>\n",
       "      <td>January</td>\n",
       "      <td>2016</td>\n",
       "      <td>2</td>\n",
       "    </tr>\n",
       "    <tr>\n",
       "      <th>1</th>\n",
       "      <td>Adilabad</td>\n",
       "      <td>01-02-2016</td>\n",
       "      <td>February</td>\n",
       "      <td>2016</td>\n",
       "      <td>0</td>\n",
       "    </tr>\n",
       "    <tr>\n",
       "      <th>2</th>\n",
       "      <td>Adilabad</td>\n",
       "      <td>01-03-2016</td>\n",
       "      <td>March</td>\n",
       "      <td>2016</td>\n",
       "      <td>2</td>\n",
       "    </tr>\n",
       "    <tr>\n",
       "      <th>3</th>\n",
       "      <td>Adilabad</td>\n",
       "      <td>01-04-2016</td>\n",
       "      <td>April</td>\n",
       "      <td>2016</td>\n",
       "      <td>0</td>\n",
       "    </tr>\n",
       "    <tr>\n",
       "      <th>4</th>\n",
       "      <td>Adilabad</td>\n",
       "      <td>01-05-2016</td>\n",
       "      <td>May</td>\n",
       "      <td>2016</td>\n",
       "      <td>0</td>\n",
       "    </tr>\n",
       "  </tbody>\n",
       "</table>\n",
       "</div>"
      ],
      "text/plain": [
       "   district        date     month  year visitors\n",
       "0  Adilabad  01-01-2016   January  2016        2\n",
       "1  Adilabad  01-02-2016  February  2016        0\n",
       "2  Adilabad  01-03-2016     March  2016        2\n",
       "3  Adilabad  01-04-2016     April  2016        0\n",
       "4  Adilabad  01-05-2016       May  2016        0"
      ]
     },
     "execution_count": 63,
     "metadata": {},
     "output_type": "execute_result"
    }
   ],
   "source": [
    "df5.head()"
   ]
  },
  {
   "cell_type": "code",
   "execution_count": 64,
   "id": "7c5aa821",
   "metadata": {},
   "outputs": [],
   "source": [
    "df6=pd.read_csv('foreign_visitors_2017.csv')"
   ]
  },
  {
   "cell_type": "code",
   "execution_count": 65,
   "id": "efc451e0",
   "metadata": {},
   "outputs": [],
   "source": [
    "df7=pd.read_csv('foreign_visitors_2018.csv')"
   ]
  },
  {
   "cell_type": "code",
   "execution_count": 66,
   "id": "d176d72c",
   "metadata": {},
   "outputs": [],
   "source": [
    "df8=pd.read_csv('foreign_visitors_2019.csv')"
   ]
  },
  {
   "cell_type": "code",
   "execution_count": 67,
   "id": "f955b238",
   "metadata": {},
   "outputs": [],
   "source": [
    "df_foreign=pd.concat([df5,df6,df7,df8],axis=0)"
   ]
  },
  {
   "cell_type": "code",
   "execution_count": 68,
   "id": "0ce78cf7",
   "metadata": {},
   "outputs": [
    {
     "data": {
      "text/html": [
       "<div>\n",
       "<style scoped>\n",
       "    .dataframe tbody tr th:only-of-type {\n",
       "        vertical-align: middle;\n",
       "    }\n",
       "\n",
       "    .dataframe tbody tr th {\n",
       "        vertical-align: top;\n",
       "    }\n",
       "\n",
       "    .dataframe thead th {\n",
       "        text-align: right;\n",
       "    }\n",
       "</style>\n",
       "<table border=\"1\" class=\"dataframe\">\n",
       "  <thead>\n",
       "    <tr style=\"text-align: right;\">\n",
       "      <th></th>\n",
       "      <th>district</th>\n",
       "      <th>date</th>\n",
       "      <th>month</th>\n",
       "      <th>year</th>\n",
       "      <th>visitors</th>\n",
       "    </tr>\n",
       "  </thead>\n",
       "  <tbody>\n",
       "    <tr>\n",
       "      <th>0</th>\n",
       "      <td>Adilabad</td>\n",
       "      <td>01-01-2016</td>\n",
       "      <td>January</td>\n",
       "      <td>2016</td>\n",
       "      <td>2</td>\n",
       "    </tr>\n",
       "    <tr>\n",
       "      <th>1</th>\n",
       "      <td>Adilabad</td>\n",
       "      <td>01-02-2016</td>\n",
       "      <td>February</td>\n",
       "      <td>2016</td>\n",
       "      <td>0</td>\n",
       "    </tr>\n",
       "    <tr>\n",
       "      <th>2</th>\n",
       "      <td>Adilabad</td>\n",
       "      <td>01-03-2016</td>\n",
       "      <td>March</td>\n",
       "      <td>2016</td>\n",
       "      <td>2</td>\n",
       "    </tr>\n",
       "    <tr>\n",
       "      <th>3</th>\n",
       "      <td>Adilabad</td>\n",
       "      <td>01-04-2016</td>\n",
       "      <td>April</td>\n",
       "      <td>2016</td>\n",
       "      <td>0</td>\n",
       "    </tr>\n",
       "    <tr>\n",
       "      <th>4</th>\n",
       "      <td>Adilabad</td>\n",
       "      <td>01-05-2016</td>\n",
       "      <td>May</td>\n",
       "      <td>2016</td>\n",
       "      <td>0</td>\n",
       "    </tr>\n",
       "  </tbody>\n",
       "</table>\n",
       "</div>"
      ],
      "text/plain": [
       "   district        date     month  year visitors\n",
       "0  Adilabad  01-01-2016   January  2016        2\n",
       "1  Adilabad  01-02-2016  February  2016        0\n",
       "2  Adilabad  01-03-2016     March  2016        2\n",
       "3  Adilabad  01-04-2016     April  2016        0\n",
       "4  Adilabad  01-05-2016       May  2016        0"
      ]
     },
     "execution_count": 68,
     "metadata": {},
     "output_type": "execute_result"
    }
   ],
   "source": [
    "df_foreign.to_csv('foreign_tourists.csv')\n",
    "df_foreign.head()"
   ]
  },
  {
   "cell_type": "code",
   "execution_count": 69,
   "id": "6b48b0d9",
   "metadata": {},
   "outputs": [
    {
     "data": {
      "text/plain": [
       "district    0\n",
       "date        0\n",
       "month       0\n",
       "year        0\n",
       "visitors    0\n",
       "dtype: int64"
      ]
     },
     "execution_count": 69,
     "metadata": {},
     "output_type": "execute_result"
    }
   ],
   "source": [
    "df_foreign.isna().sum()"
   ]
  },
  {
   "cell_type": "code",
   "execution_count": null,
   "id": "8c4854e9",
   "metadata": {},
   "outputs": [],
   "source": []
  },
  {
   "cell_type": "code",
   "execution_count": null,
   "id": "3d7b3b8e",
   "metadata": {},
   "outputs": [],
   "source": []
  },
  {
   "cell_type": "code",
   "execution_count": 70,
   "id": "990ad52e",
   "metadata": {},
   "outputs": [
    {
     "name": "stdout",
     "output_type": "stream",
     "text": [
      "<class 'pandas.core.series.Series'>\n",
      "Index: 1512 entries, 0 to 395\n",
      "Series name: visitors\n",
      "Non-Null Count  Dtype \n",
      "--------------  ----- \n",
      "1512 non-null   object\n",
      "dtypes: object(1)\n",
      "memory usage: 23.6+ KB\n"
     ]
    }
   ],
   "source": [
    "df_foreign['visitors'].info()\n",
    "#visitor_foreign_end_value"
   ]
  },
  {
   "cell_type": "code",
   "execution_count": 71,
   "id": "13b9545f",
   "metadata": {},
   "outputs": [],
   "source": [
    "import math\n",
    "from numpy import nan\n",
    "\n",
    "def isblank_na(x):\n",
    "    \n",
    "    if x!=' ':\n",
    "        if  isinstance(x,str):\n",
    "            return float(x)\n",
    "\n",
    "df_foreign['visitors'].dropna(axis=0,inplace=True)        \n",
    "df_foreign['visitors_without_blank']=df_foreign['visitors'].apply(lambda x:isblank_na(x))"
   ]
  },
  {
   "cell_type": "code",
   "execution_count": 72,
   "id": "f56727d9",
   "metadata": {},
   "outputs": [
    {
     "name": "stderr",
     "output_type": "stream",
     "text": [
      "C:\\Users\\lenovo\\AppData\\Local\\Temp\\ipykernel_6324\\2276421444.py:1: UserWarning: \n",
      "\n",
      "`distplot` is a deprecated function and will be removed in seaborn v0.14.0.\n",
      "\n",
      "Please adapt your code to use either `displot` (a figure-level function with\n",
      "similar flexibility) or `histplot` (an axes-level function for histograms).\n",
      "\n",
      "For a guide to updating your code to use the new functions, please see\n",
      "https://gist.github.com/mwaskom/de44147ed2974457ad6372750bbe5751\n",
      "\n",
      "  sns.distplot(df_foreign['visitors_without_blank'].dropna(axis=0))\n",
      "C:\\ProgramData\\anaconda3\\lib\\site-packages\\seaborn\\_oldcore.py:1119: FutureWarning: use_inf_as_na option is deprecated and will be removed in a future version. Convert inf values to NaN before operating instead.\n",
      "  with pd.option_context('mode.use_inf_as_na', True):\n"
     ]
    },
    {
     "data": {
      "text/plain": [
       "<Axes: xlabel='visitors_without_blank', ylabel='Density'>"
      ]
     },
     "execution_count": 72,
     "metadata": {},
     "output_type": "execute_result"
    },
    {
     "data": {
      "image/png": "[encoded data removed]",
      "text/plain": [
       "<Figure size 640x480 with 1 Axes>"
      ]
     },
     "metadata": {},
     "output_type": "display_data"
    }
   ],
   "source": [
    "sns.distplot(df_foreign['visitors_without_blank'].dropna(axis=0))"
   ]
  },
  {
   "cell_type": "code",
   "execution_count": 73,
   "id": "7d8e9636",
   "metadata": {},
   "outputs": [
    {
     "data": {
      "text/plain": [
       "0.0"
      ]
     },
     "execution_count": 73,
     "metadata": {},
     "output_type": "execute_result"
    }
   ],
   "source": [
    "IQR=df_foreign['visitors_without_blank'].describe()['75%']-df_foreign['visitors_without_blank'].describe()['25%']\n",
    "IQR"
   ]
  },
  {
   "cell_type": "code",
   "execution_count": 74,
   "id": "5761c015",
   "metadata": {},
   "outputs": [
    {
     "data": {
      "text/plain": [
       "0          2.0\n",
       "2          2.0\n",
       "6          4.0\n",
       "7          2.0\n",
       "24     15865.0\n",
       "        ...   \n",
       "379      230.0\n",
       "380      240.0\n",
       "381      220.0\n",
       "382      230.0\n",
       "383      210.0\n",
       "Name: visitors_without_blank, Length: 293, dtype: float64"
      ]
     },
     "execution_count": 74,
     "metadata": {},
     "output_type": "execute_result"
    }
   ],
   "source": [
    "df_foreign[df_foreign['visitors_without_blank']>(df_foreign['visitors_without_blank'].describe()['75%']+1.5*IQR)]['visitors_without_blank']"
   ]
  },
  {
   "cell_type": "code",
   "execution_count": 75,
   "id": "5028cc92",
   "metadata": {},
   "outputs": [
    {
     "data": {
      "text/plain": [
       "0.0"
      ]
     },
     "execution_count": 75,
     "metadata": {},
     "output_type": "execute_result"
    }
   ],
   "source": [
    "df_foreign['visitors_without_blank'].describe()['75%']"
   ]
  },
  {
   "cell_type": "code",
   "execution_count": 76,
   "id": "ea03c574",
   "metadata": {},
   "outputs": [],
   "source": [
    "df_foreign['visitors_without_blank'].fillna(df_foreign['visitors_without_blank'].median(),axis=0,inplace=True)\n",
    "#df_foreign['visitors_without_blank'].describe()"
   ]
  },
  {
   "cell_type": "code",
   "execution_count": 77,
   "id": "ec0cf379",
   "metadata": {},
   "outputs": [],
   "source": [
    "df_foreign['visitors']=df_foreign['visitors_without_blank']"
   ]
  },
  {
   "cell_type": "code",
   "execution_count": 78,
   "id": "7661f50a",
   "metadata": {},
   "outputs": [],
   "source": [
    "df_foreign.drop('visitors_without_blank',axis=1,inplace=True)"
   ]
  },
  {
   "cell_type": "code",
   "execution_count": 79,
   "id": "3faaae24",
   "metadata": {},
   "outputs": [
    {
     "data": {
      "text/plain": [
       "district    0\n",
       "date        0\n",
       "month       0\n",
       "year        0\n",
       "visitors    0\n",
       "dtype: int64"
      ]
     },
     "execution_count": 79,
     "metadata": {},
     "output_type": "execute_result"
    }
   ],
   "source": [
    "df_foreign.isna().sum()"
   ]
  },
  {
   "cell_type": "code",
   "execution_count": 80,
   "id": "a6e5a808",
   "metadata": {},
   "outputs": [],
   "source": [
    "df_district_domestic_visitors=df.groupby(by='district')['visitors'].sum().sort_values()\n",
    "\n",
    "df_district_foreign_visitors=df_foreign.groupby(by='district')['visitors'].sum().sort_values()"
   ]
  },
  {
   "cell_type": "code",
   "execution_count": 81,
   "id": "777d5558",
   "metadata": {},
   "outputs": [
    {
     "data": {
      "text/plain": [
       "district\n",
       "Nizamabad                     116147.0\n",
       "Kamareddy                    1075068.0\n",
       "Narayanapet                  1104780.0\n",
       "Peddapalli                   1130272.0\n",
       "Komaram Bheem Asifabad       1166029.0\n",
       "Mahabubabad                  1673992.0\n",
       "Mulugu                       1819800.0\n",
       "Warangal (Rural)             1892457.0\n",
       "Jangaon                      1899575.0\n",
       "Mancherial                   1940537.0\n",
       "Wanaparthy                   1963373.0\n",
       "Suryapet                     3935415.0\n",
       "Ranga Reddy                  5724240.0\n",
       "Vikarabad                    5724240.0\n",
       "Medchal                      5724240.0\n",
       "Nalgonda                     6401933.0\n",
       "Siddipet                     6848580.0\n",
       "Adilabad                     7321575.0\n",
       "Jogulamba Gadwal             7886635.0\n",
       "Nagarkurnool                 8497650.0\n",
       "Khammam                      9378315.0\n",
       "Karimnagar                   9462383.0\n",
       "Sangareddy                  11497805.0\n",
       "Jagtial                     12376809.0\n",
       "Nirmal                      14389091.0\n",
       "Mahbubnagar                 17180118.0\n",
       "Medak                       20542639.0\n",
       "Jayashankar Bhoopalpally    20706160.0\n",
       "Bhadradri Kothagudem        22674257.0\n",
       "Yadadri Bhongir             27966375.0\n",
       "Warangal (Urban)            30726603.0\n",
       "Rajanna Sircilla            42836571.0\n",
       "Hyderabad                   83900960.0\n",
       "Name: visitors, dtype: float64"
      ]
     },
     "execution_count": 81,
     "metadata": {},
     "output_type": "execute_result"
    }
   ],
   "source": [
    "df_district_domestic_visitors"
   ]
  },
  {
   "cell_type": "code",
   "execution_count": 82,
   "id": "00bc4d12",
   "metadata": {},
   "outputs": [
    {
     "data": {
      "text/plain": [
       "district\n",
       "Yadadri Bhongir    0.0\n",
       "Nalgonda           0.0\n",
       "Ranga Reddy        0.0\n",
       "Sangareddy         0.0\n",
       "Medchal            0.0\n",
       "Name: visitors, dtype: float64"
      ]
     },
     "execution_count": 82,
     "metadata": {},
     "output_type": "execute_result"
    }
   ],
   "source": [
    "df_district_foreign_visitors.head(5)\n"
   ]
  },
  {
   "cell_type": "code",
   "execution_count": 83,
   "id": "005d8071",
   "metadata": {},
   "outputs": [
    {
     "data": {
      "text/plain": [
       "array([0.00000000e+00, 0.00000000e+00, 0.00000000e+00, 0.00000000e+00,\n",
       "       0.00000000e+00, 0.00000000e+00, 0.00000000e+00, 0.00000000e+00,\n",
       "       0.00000000e+00, 0.00000000e+00, 0.00000000e+00, 0.00000000e+00,\n",
       "       0.00000000e+00, 0.00000000e+00, 0.00000000e+00, 0.00000000e+00,\n",
       "       0.00000000e+00, 0.00000000e+00, 0.00000000e+00, 2.35359188e-07,\n",
       "       2.13257925e-07, 5.28408119e-07, 4.34865611e-07, 8.07962699e-07,\n",
       "       2.22390699e-06, 1.78112863e-05, 2.79905615e-05, 3.67523481e-05,\n",
       "       4.16772201e-05, 4.47680473e-05, 7.42678909e-05, 2.05922178e-04,\n",
       "       1.24539457e-02])"
      ]
     },
     "execution_count": 83,
     "metadata": {},
     "output_type": "execute_result"
    }
   ],
   "source": [
    "df_district_foreign_visitors.values/df_district_domestic_visitors.values"
   ]
  },
  {
   "cell_type": "code",
   "execution_count": 84,
   "id": "409f1d35",
   "metadata": {},
   "outputs": [
    {
     "data": {
      "text/html": [
       "<div>\n",
       "<style scoped>\n",
       "    .dataframe tbody tr th:only-of-type {\n",
       "        vertical-align: middle;\n",
       "    }\n",
       "\n",
       "    .dataframe tbody tr th {\n",
       "        vertical-align: top;\n",
       "    }\n",
       "\n",
       "    .dataframe thead th {\n",
       "        text-align: right;\n",
       "    }\n",
       "</style>\n",
       "<table border=\"1\" class=\"dataframe\">\n",
       "  <thead>\n",
       "    <tr style=\"text-align: right;\">\n",
       "      <th></th>\n",
       "      <th>district</th>\n",
       "      <th>visitors</th>\n",
       "    </tr>\n",
       "  </thead>\n",
       "  <tbody>\n",
       "    <tr>\n",
       "      <th>0</th>\n",
       "      <td>Nizamabad</td>\n",
       "      <td>116147.0</td>\n",
       "    </tr>\n",
       "    <tr>\n",
       "      <th>1</th>\n",
       "      <td>Kamareddy</td>\n",
       "      <td>1075068.0</td>\n",
       "    </tr>\n",
       "    <tr>\n",
       "      <th>2</th>\n",
       "      <td>Narayanapet</td>\n",
       "      <td>1104780.0</td>\n",
       "    </tr>\n",
       "    <tr>\n",
       "      <th>3</th>\n",
       "      <td>Peddapalli</td>\n",
       "      <td>1130272.0</td>\n",
       "    </tr>\n",
       "    <tr>\n",
       "      <th>4</th>\n",
       "      <td>Komaram Bheem Asifabad</td>\n",
       "      <td>1166029.0</td>\n",
       "    </tr>\n",
       "    <tr>\n",
       "      <th>5</th>\n",
       "      <td>Mahabubabad</td>\n",
       "      <td>1673992.0</td>\n",
       "    </tr>\n",
       "    <tr>\n",
       "      <th>6</th>\n",
       "      <td>Mulugu</td>\n",
       "      <td>1819800.0</td>\n",
       "    </tr>\n",
       "    <tr>\n",
       "      <th>7</th>\n",
       "      <td>Warangal (Rural)</td>\n",
       "      <td>1892457.0</td>\n",
       "    </tr>\n",
       "    <tr>\n",
       "      <th>8</th>\n",
       "      <td>Jangaon</td>\n",
       "      <td>1899575.0</td>\n",
       "    </tr>\n",
       "    <tr>\n",
       "      <th>9</th>\n",
       "      <td>Mancherial</td>\n",
       "      <td>1940537.0</td>\n",
       "    </tr>\n",
       "    <tr>\n",
       "      <th>10</th>\n",
       "      <td>Wanaparthy</td>\n",
       "      <td>1963373.0</td>\n",
       "    </tr>\n",
       "    <tr>\n",
       "      <th>11</th>\n",
       "      <td>Suryapet</td>\n",
       "      <td>3935415.0</td>\n",
       "    </tr>\n",
       "    <tr>\n",
       "      <th>12</th>\n",
       "      <td>Ranga Reddy</td>\n",
       "      <td>5724240.0</td>\n",
       "    </tr>\n",
       "    <tr>\n",
       "      <th>13</th>\n",
       "      <td>Vikarabad</td>\n",
       "      <td>5724240.0</td>\n",
       "    </tr>\n",
       "    <tr>\n",
       "      <th>14</th>\n",
       "      <td>Medchal</td>\n",
       "      <td>5724240.0</td>\n",
       "    </tr>\n",
       "    <tr>\n",
       "      <th>15</th>\n",
       "      <td>Nalgonda</td>\n",
       "      <td>6401933.0</td>\n",
       "    </tr>\n",
       "    <tr>\n",
       "      <th>16</th>\n",
       "      <td>Siddipet</td>\n",
       "      <td>6848580.0</td>\n",
       "    </tr>\n",
       "    <tr>\n",
       "      <th>17</th>\n",
       "      <td>Adilabad</td>\n",
       "      <td>7321575.0</td>\n",
       "    </tr>\n",
       "    <tr>\n",
       "      <th>18</th>\n",
       "      <td>Jogulamba Gadwal</td>\n",
       "      <td>7886635.0</td>\n",
       "    </tr>\n",
       "    <tr>\n",
       "      <th>19</th>\n",
       "      <td>Nagarkurnool</td>\n",
       "      <td>8497650.0</td>\n",
       "    </tr>\n",
       "    <tr>\n",
       "      <th>20</th>\n",
       "      <td>Khammam</td>\n",
       "      <td>9378315.0</td>\n",
       "    </tr>\n",
       "    <tr>\n",
       "      <th>21</th>\n",
       "      <td>Karimnagar</td>\n",
       "      <td>9462383.0</td>\n",
       "    </tr>\n",
       "    <tr>\n",
       "      <th>22</th>\n",
       "      <td>Sangareddy</td>\n",
       "      <td>11497805.0</td>\n",
       "    </tr>\n",
       "    <tr>\n",
       "      <th>23</th>\n",
       "      <td>Jagtial</td>\n",
       "      <td>12376809.0</td>\n",
       "    </tr>\n",
       "    <tr>\n",
       "      <th>24</th>\n",
       "      <td>Nirmal</td>\n",
       "      <td>14389091.0</td>\n",
       "    </tr>\n",
       "    <tr>\n",
       "      <th>25</th>\n",
       "      <td>Mahbubnagar</td>\n",
       "      <td>17180118.0</td>\n",
       "    </tr>\n",
       "    <tr>\n",
       "      <th>26</th>\n",
       "      <td>Medak</td>\n",
       "      <td>20542639.0</td>\n",
       "    </tr>\n",
       "    <tr>\n",
       "      <th>27</th>\n",
       "      <td>Jayashankar Bhoopalpally</td>\n",
       "      <td>20706160.0</td>\n",
       "    </tr>\n",
       "    <tr>\n",
       "      <th>28</th>\n",
       "      <td>Bhadradri Kothagudem</td>\n",
       "      <td>22674257.0</td>\n",
       "    </tr>\n",
       "    <tr>\n",
       "      <th>29</th>\n",
       "      <td>Yadadri Bhongir</td>\n",
       "      <td>27966375.0</td>\n",
       "    </tr>\n",
       "    <tr>\n",
       "      <th>30</th>\n",
       "      <td>Warangal (Urban)</td>\n",
       "      <td>30726603.0</td>\n",
       "    </tr>\n",
       "    <tr>\n",
       "      <th>31</th>\n",
       "      <td>Rajanna Sircilla</td>\n",
       "      <td>42836571.0</td>\n",
       "    </tr>\n",
       "    <tr>\n",
       "      <th>32</th>\n",
       "      <td>Hyderabad</td>\n",
       "      <td>83900960.0</td>\n",
       "    </tr>\n",
       "  </tbody>\n",
       "</table>\n",
       "</div>"
      ],
      "text/plain": [
       "                    district    visitors\n",
       "0                  Nizamabad    116147.0\n",
       "1                 Kamareddy    1075068.0\n",
       "2                Narayanapet   1104780.0\n",
       "3                 Peddapalli   1130272.0\n",
       "4     Komaram Bheem Asifabad   1166029.0\n",
       "5               Mahabubabad    1673992.0\n",
       "6                     Mulugu   1819800.0\n",
       "7           Warangal (Rural)   1892457.0\n",
       "8                   Jangaon    1899575.0\n",
       "9                 Mancherial   1940537.0\n",
       "10               Wanaparthy    1963373.0\n",
       "11                  Suryapet   3935415.0\n",
       "12               Ranga Reddy   5724240.0\n",
       "13                 Vikarabad   5724240.0\n",
       "14                  Medchal    5724240.0\n",
       "15                  Nalgonda   6401933.0\n",
       "16                  Siddipet   6848580.0\n",
       "17                  Adilabad   7321575.0\n",
       "18         Jogulamba Gadwal    7886635.0\n",
       "19             Nagarkurnool    8497650.0\n",
       "20                   Khammam   9378315.0\n",
       "21               Karimnagar    9462383.0\n",
       "22               Sangareddy   11497805.0\n",
       "23                  Jagtial   12376809.0\n",
       "24                    Nirmal  14389091.0\n",
       "25               Mahbubnagar  17180118.0\n",
       "26                    Medak   20542639.0\n",
       "27  Jayashankar Bhoopalpally  20706160.0\n",
       "28     Bhadradri Kothagudem   22674257.0\n",
       "29           Yadadri Bhongir  27966375.0\n",
       "30          Warangal (Urban)  30726603.0\n",
       "31         Rajanna Sircilla   42836571.0\n",
       "32                 Hyderabad  83900960.0"
      ]
     },
     "execution_count": 84,
     "metadata": {},
     "output_type": "execute_result"
    }
   ],
   "source": [
    "left3=df_district_domestic_visitors.to_frame().reset_index()\n",
    "left3"
   ]
  },
  {
   "cell_type": "code",
   "execution_count": 85,
   "id": "df0b64ba",
   "metadata": {},
   "outputs": [],
   "source": [
    "left3=df_district_domestic_visitors.to_frame().reset_index()\n",
    "right3=df_district_foreign_visitors.to_frame().reset_index()\n",
    "df_district_foreign_visitors=pd.merge(left3,right3,on='district',how='inner')"
   ]
  },
  {
   "cell_type": "code",
   "execution_count": 86,
   "id": "fed528e2",
   "metadata": {},
   "outputs": [
    {
     "data": {
      "text/html": [
       "<div>\n",
       "<style scoped>\n",
       "    .dataframe tbody tr th:only-of-type {\n",
       "        vertical-align: middle;\n",
       "    }\n",
       "\n",
       "    .dataframe tbody tr th {\n",
       "        vertical-align: top;\n",
       "    }\n",
       "\n",
       "    .dataframe thead th {\n",
       "        text-align: right;\n",
       "    }\n",
       "</style>\n",
       "<table border=\"1\" class=\"dataframe\">\n",
       "  <thead>\n",
       "    <tr style=\"text-align: right;\">\n",
       "      <th></th>\n",
       "      <th>district</th>\n",
       "      <th>visitors_x</th>\n",
       "      <th>visitors_y</th>\n",
       "    </tr>\n",
       "  </thead>\n",
       "  <tbody>\n",
       "    <tr>\n",
       "      <th>0</th>\n",
       "      <td>Nizamabad</td>\n",
       "      <td>116147.0</td>\n",
       "      <td>5.0</td>\n",
       "    </tr>\n",
       "    <tr>\n",
       "      <th>1</th>\n",
       "      <td>Kamareddy</td>\n",
       "      <td>1075068.0</td>\n",
       "      <td>0.0</td>\n",
       "    </tr>\n",
       "    <tr>\n",
       "      <th>2</th>\n",
       "      <td>Peddapalli</td>\n",
       "      <td>1130272.0</td>\n",
       "      <td>0.0</td>\n",
       "    </tr>\n",
       "    <tr>\n",
       "      <th>3</th>\n",
       "      <td>Komaram Bheem Asifabad</td>\n",
       "      <td>1166029.0</td>\n",
       "      <td>0.0</td>\n",
       "    </tr>\n",
       "    <tr>\n",
       "      <th>4</th>\n",
       "      <td>Mahabubabad</td>\n",
       "      <td>1673992.0</td>\n",
       "      <td>0.0</td>\n",
       "    </tr>\n",
       "  </tbody>\n",
       "</table>\n",
       "</div>"
      ],
      "text/plain": [
       "                 district  visitors_x  visitors_y\n",
       "0               Nizamabad    116147.0         5.0\n",
       "1              Kamareddy    1075068.0         0.0\n",
       "2              Peddapalli   1130272.0         0.0\n",
       "3  Komaram Bheem Asifabad   1166029.0         0.0\n",
       "4            Mahabubabad    1673992.0         0.0"
      ]
     },
     "execution_count": 86,
     "metadata": {},
     "output_type": "execute_result"
    }
   ],
   "source": [
    "df_district_foreign_visitors.head()"
   ]
  },
  {
   "cell_type": "code",
   "execution_count": 87,
   "id": "de5afcf3",
   "metadata": {},
   "outputs": [],
   "source": [
    "#rankings_pd.rename(columns = {'test':'TEST'}, inplace = True) \n",
    "df_district_foreign_visitors.rename(columns={'visitors_x':'domestic_vis','visitors_y':'foreign_vis'},inplace=True)"
   ]
  },
  {
   "cell_type": "code",
   "execution_count": 88,
   "id": "98e4c92f",
   "metadata": {},
   "outputs": [],
   "source": [
    "df_district_foreign_visitors['ratio']=df_district_foreign_visitors['foreign_vis']/df_district_foreign_visitors['domestic_vis']"
   ]
  },
  {
   "cell_type": "markdown",
   "id": "c2ab5ea1",
   "metadata": {},
   "source": [
    "BOTTOM 3 DISTRICTS BASED ON DOMESTIC/FOREIGN VISITROS RATIO"
   ]
  },
  {
   "cell_type": "code",
   "execution_count": 91,
   "id": "b3fa1faa",
   "metadata": {},
   "outputs": [
    {
     "data": {
      "text/html": [
       "<div>\n",
       "<style scoped>\n",
       "    .dataframe tbody tr th:only-of-type {\n",
       "        vertical-align: middle;\n",
       "    }\n",
       "\n",
       "    .dataframe tbody tr th {\n",
       "        vertical-align: top;\n",
       "    }\n",
       "\n",
       "    .dataframe thead th {\n",
       "        text-align: right;\n",
       "    }\n",
       "</style>\n",
       "<table border=\"1\" class=\"dataframe\">\n",
       "  <thead>\n",
       "    <tr style=\"text-align: right;\">\n",
       "      <th></th>\n",
       "      <th>district</th>\n",
       "      <th>domestic_vis</th>\n",
       "      <th>foreign_vis</th>\n",
       "      <th>ratio</th>\n",
       "    </tr>\n",
       "  </thead>\n",
       "  <tbody>\n",
       "    <tr>\n",
       "      <th>31</th>\n",
       "      <td>Hyderabad</td>\n",
       "      <td>83900960.0</td>\n",
       "      <td>1044898.0</td>\n",
       "      <td>0.012454</td>\n",
       "    </tr>\n",
       "    <tr>\n",
       "      <th>5</th>\n",
       "      <td>Mulugu</td>\n",
       "      <td>1819800.0</td>\n",
       "      <td>575.0</td>\n",
       "      <td>0.000316</td>\n",
       "    </tr>\n",
       "    <tr>\n",
       "      <th>29</th>\n",
       "      <td>Warangal (Urban)</td>\n",
       "      <td>30726603.0</td>\n",
       "      <td>8821.0</td>\n",
       "      <td>0.000287</td>\n",
       "    </tr>\n",
       "  </tbody>\n",
       "</table>\n",
       "</div>"
      ],
      "text/plain": [
       "            district  domestic_vis  foreign_vis     ratio\n",
       "31         Hyderabad    83900960.0    1044898.0  0.012454\n",
       "5             Mulugu     1819800.0        575.0  0.000316\n",
       "29  Warangal (Urban)    30726603.0       8821.0  0.000287"
      ]
     },
     "execution_count": 91,
     "metadata": {},
     "output_type": "execute_result"
    }
   ],
   "source": [
    "df_district_foreign_visitors.sort_values(by='ratio',ascending=False).head(3)"
   ]
  },
  {
   "cell_type": "markdown",
   "id": "37ead088",
   "metadata": {},
   "source": [
    "TOP 3 DISTRICTS BASED ON DOMESTIC/FOREIGN VISITROS RATIO"
   ]
  },
  {
   "cell_type": "code",
   "execution_count": 92,
   "id": "7ce93a34",
   "metadata": {},
   "outputs": [
    {
     "data": {
      "text/html": [
       "<div>\n",
       "<style scoped>\n",
       "    .dataframe tbody tr th:only-of-type {\n",
       "        vertical-align: middle;\n",
       "    }\n",
       "\n",
       "    .dataframe tbody tr th {\n",
       "        vertical-align: top;\n",
       "    }\n",
       "\n",
       "    .dataframe thead th {\n",
       "        text-align: right;\n",
       "    }\n",
       "</style>\n",
       "<table border=\"1\" class=\"dataframe\">\n",
       "  <thead>\n",
       "    <tr style=\"text-align: right;\">\n",
       "      <th></th>\n",
       "      <th>district</th>\n",
       "      <th>domestic_vis</th>\n",
       "      <th>foreign_vis</th>\n",
       "      <th>ratio</th>\n",
       "    </tr>\n",
       "  </thead>\n",
       "  <tbody>\n",
       "    <tr>\n",
       "      <th>12</th>\n",
       "      <td>Vikarabad</td>\n",
       "      <td>5724240.0</td>\n",
       "      <td>0.0</td>\n",
       "      <td>0.0</td>\n",
       "    </tr>\n",
       "    <tr>\n",
       "      <th>11</th>\n",
       "      <td>Ranga Reddy</td>\n",
       "      <td>5724240.0</td>\n",
       "      <td>0.0</td>\n",
       "      <td>0.0</td>\n",
       "    </tr>\n",
       "    <tr>\n",
       "      <th>20</th>\n",
       "      <td>Karimnagar</td>\n",
       "      <td>9462383.0</td>\n",
       "      <td>0.0</td>\n",
       "      <td>0.0</td>\n",
       "    </tr>\n",
       "  </tbody>\n",
       "</table>\n",
       "</div>"
      ],
      "text/plain": [
       "       district  domestic_vis  foreign_vis  ratio\n",
       "12    Vikarabad     5724240.0          0.0    0.0\n",
       "11  Ranga Reddy     5724240.0          0.0    0.0\n",
       "20  Karimnagar      9462383.0          0.0    0.0"
      ]
     },
     "execution_count": 92,
     "metadata": {},
     "output_type": "execute_result"
    }
   ],
   "source": [
    "df_district_foreign_visitors.sort_values(by='ratio',ascending=False).tail(3)"
   ]
  },
  {
   "cell_type": "code",
   "execution_count": 93,
   "id": "249468d5",
   "metadata": {},
   "outputs": [],
   "source": [
    "df_population=pd.read_csv('population_data_csv.CSV')"
   ]
  },
  {
   "cell_type": "code",
   "execution_count": 94,
   "id": "71028f4f",
   "metadata": {},
   "outputs": [
    {
     "data": {
      "text/html": [
       "<div>\n",
       "<style scoped>\n",
       "    .dataframe tbody tr th:only-of-type {\n",
       "        vertical-align: middle;\n",
       "    }\n",
       "\n",
       "    .dataframe tbody tr th {\n",
       "        vertical-align: top;\n",
       "    }\n",
       "\n",
       "    .dataframe thead th {\n",
       "        text-align: right;\n",
       "    }\n",
       "</style>\n",
       "<table border=\"1\" class=\"dataframe\">\n",
       "  <thead>\n",
       "    <tr style=\"text-align: right;\">\n",
       "      <th></th>\n",
       "      <th>Unnamed: 0</th>\n",
       "      <th>District</th>\n",
       "      <th>PopulationCensus2011-03-01</th>\n",
       "    </tr>\n",
       "  </thead>\n",
       "  <tbody>\n",
       "    <tr>\n",
       "      <th>0</th>\n",
       "      <td>0</td>\n",
       "      <td>Mahbubnagar</td>\n",
       "      <td>20,721</td>\n",
       "    </tr>\n",
       "    <tr>\n",
       "      <th>1</th>\n",
       "      <td>1</td>\n",
       "      <td>Adilabad</td>\n",
       "      <td>117,167</td>\n",
       "    </tr>\n",
       "    <tr>\n",
       "      <th>2</th>\n",
       "      <td>2</td>\n",
       "      <td>Medak</td>\n",
       "      <td>11,276</td>\n",
       "    </tr>\n",
       "    <tr>\n",
       "      <th>3</th>\n",
       "      <td>3</td>\n",
       "      <td>Medak</td>\n",
       "      <td>36,452</td>\n",
       "    </tr>\n",
       "    <tr>\n",
       "      <th>4</th>\n",
       "      <td>4</td>\n",
       "      <td>Medak</td>\n",
       "      <td>6,840</td>\n",
       "    </tr>\n",
       "  </tbody>\n",
       "</table>\n",
       "</div>"
      ],
      "text/plain": [
       "   Unnamed: 0     District PopulationCensus2011-03-01\n",
       "0           0  Mahbubnagar                     20,721\n",
       "1           1     Adilabad                    117,167\n",
       "2           2        Medak                     11,276\n",
       "3           3        Medak                     36,452\n",
       "4           4        Medak                      6,840"
      ]
     },
     "execution_count": 94,
     "metadata": {},
     "output_type": "execute_result"
    }
   ],
   "source": [
    "df_population.head()"
   ]
  },
  {
   "cell_type": "code",
   "execution_count": 95,
   "id": "934f8276",
   "metadata": {},
   "outputs": [],
   "source": [
    "df_population=df_population[['District','PopulationCensus2011-03-01']]"
   ]
  },
  {
   "cell_type": "code",
   "execution_count": 96,
   "id": "19425ac3",
   "metadata": {},
   "outputs": [
    {
     "name": "stdout",
     "output_type": "stream",
     "text": [
      "<class 'pandas.core.frame.DataFrame'>\n",
      "RangeIndex: 158 entries, 0 to 157\n",
      "Data columns (total 2 columns):\n",
      " #   Column                      Non-Null Count  Dtype \n",
      "---  ------                      --------------  ----- \n",
      " 0   District                    157 non-null    object\n",
      " 1   PopulationCensus2011-03-01  158 non-null    object\n",
      "dtypes: object(2)\n",
      "memory usage: 2.6+ KB\n"
     ]
    }
   ],
   "source": [
    "df_population.info()"
   ]
  },
  {
   "cell_type": "code",
   "execution_count": 97,
   "id": "e5237ccc",
   "metadata": {},
   "outputs": [],
   "source": [
    "df_population.dropna(inplace=True)"
   ]
  },
  {
   "cell_type": "code",
   "execution_count": 102,
   "id": "03a9bdca",
   "metadata": {},
   "outputs": [],
   "source": [
    "#rankings_pd.rename(columns = {'test':'TEST'}, inplace = True) \n",
    "df_population.rename(columns={'PopulationCensus2011-03-01':'Population','District':'district'},inplace=True) "
   ]
  },
  {
   "cell_type": "code",
   "execution_count": 99,
   "id": "7fa7532b",
   "metadata": {},
   "outputs": [],
   "source": [
    "df_population['Population']=df_population['Population'].apply(lambda x:float(x.replace(\",\", \"\")))"
   ]
  },
  {
   "cell_type": "code",
   "execution_count": 103,
   "id": "f8c1dbc2",
   "metadata": {},
   "outputs": [
    {
     "name": "stdout",
     "output_type": "stream",
     "text": [
      "<class 'pandas.core.frame.DataFrame'>\n",
      "Index: 157 entries, 0 to 157\n",
      "Data columns (total 2 columns):\n",
      " #   Column      Non-Null Count  Dtype  \n",
      "---  ------      --------------  -----  \n",
      " 0   district    157 non-null    object \n",
      " 1   Population  157 non-null    float64\n",
      "dtypes: float64(1), object(1)\n",
      "memory usage: 3.7+ KB\n"
     ]
    },
    {
     "data": {
      "text/plain": [
       "district\n",
       "Medak          24\n",
       "Rangareddy     24\n",
       "Adilabad       22\n",
       "Mahbubnagar    18\n",
       "Nalgonda       17\n",
       "Warangal       15\n",
       "Khammam        14\n",
       "Karimnagar     13\n",
       "Nizamabad       8\n",
       "Hyderabad       2\n",
       "Name: count, dtype: int64"
      ]
     },
     "execution_count": 103,
     "metadata": {},
     "output_type": "execute_result"
    }
   ],
   "source": [
    "df_population.head()\n",
    "df_population.info()\n",
    "#df_population.to_csv('population_data.csv')\n",
    "\n",
    "df_population['district'].value_counts()"
   ]
  },
  {
   "cell_type": "code",
   "execution_count": 104,
   "id": "d32ede56",
   "metadata": {},
   "outputs": [
    {
     "data": {
      "text/html": [
       "<div>\n",
       "<style scoped>\n",
       "    .dataframe tbody tr th:only-of-type {\n",
       "        vertical-align: middle;\n",
       "    }\n",
       "\n",
       "    .dataframe tbody tr th {\n",
       "        vertical-align: top;\n",
       "    }\n",
       "\n",
       "    .dataframe thead th {\n",
       "        text-align: right;\n",
       "    }\n",
       "</style>\n",
       "<table border=\"1\" class=\"dataframe\">\n",
       "  <thead>\n",
       "    <tr style=\"text-align: right;\">\n",
       "      <th></th>\n",
       "      <th>district</th>\n",
       "      <th>date</th>\n",
       "      <th>month</th>\n",
       "      <th>year</th>\n",
       "      <th>visitors</th>\n",
       "    </tr>\n",
       "  </thead>\n",
       "  <tbody>\n",
       "    <tr>\n",
       "      <th>0</th>\n",
       "      <td>Adilabad</td>\n",
       "      <td>01-01-2019</td>\n",
       "      <td>January</td>\n",
       "      <td>2019</td>\n",
       "      <td>25071.0</td>\n",
       "    </tr>\n",
       "    <tr>\n",
       "      <th>1</th>\n",
       "      <td>Adilabad</td>\n",
       "      <td>01-02-2019</td>\n",
       "      <td>February</td>\n",
       "      <td>2019</td>\n",
       "      <td>406177.0</td>\n",
       "    </tr>\n",
       "    <tr>\n",
       "      <th>2</th>\n",
       "      <td>Adilabad</td>\n",
       "      <td>01-03-2019</td>\n",
       "      <td>March</td>\n",
       "      <td>2019</td>\n",
       "      <td>14347.0</td>\n",
       "    </tr>\n",
       "    <tr>\n",
       "      <th>3</th>\n",
       "      <td>Adilabad</td>\n",
       "      <td>01-04-2019</td>\n",
       "      <td>April</td>\n",
       "      <td>2019</td>\n",
       "      <td>9972.0</td>\n",
       "    </tr>\n",
       "    <tr>\n",
       "      <th>4</th>\n",
       "      <td>Adilabad</td>\n",
       "      <td>01-05-2019</td>\n",
       "      <td>May</td>\n",
       "      <td>2019</td>\n",
       "      <td>6997.0</td>\n",
       "    </tr>\n",
       "    <tr>\n",
       "      <th>...</th>\n",
       "      <td>...</td>\n",
       "      <td>...</td>\n",
       "      <td>...</td>\n",
       "      <td>...</td>\n",
       "      <td>...</td>\n",
       "    </tr>\n",
       "    <tr>\n",
       "      <th>391</th>\n",
       "      <td>Yadadri Bhongir</td>\n",
       "      <td>01-08-2019</td>\n",
       "      <td>August</td>\n",
       "      <td>2019</td>\n",
       "      <td>389010.0</td>\n",
       "    </tr>\n",
       "    <tr>\n",
       "      <th>392</th>\n",
       "      <td>Yadadri Bhongir</td>\n",
       "      <td>01-09-2019</td>\n",
       "      <td>September</td>\n",
       "      <td>2019</td>\n",
       "      <td>366862.0</td>\n",
       "    </tr>\n",
       "    <tr>\n",
       "      <th>393</th>\n",
       "      <td>Yadadri Bhongir</td>\n",
       "      <td>01-10-2019</td>\n",
       "      <td>October</td>\n",
       "      <td>2019</td>\n",
       "      <td>381860.0</td>\n",
       "    </tr>\n",
       "    <tr>\n",
       "      <th>394</th>\n",
       "      <td>Yadadri Bhongir</td>\n",
       "      <td>01-11-2019</td>\n",
       "      <td>November</td>\n",
       "      <td>2019</td>\n",
       "      <td>365990.0</td>\n",
       "    </tr>\n",
       "    <tr>\n",
       "      <th>395</th>\n",
       "      <td>Yadadri Bhongir</td>\n",
       "      <td>01-12-2019</td>\n",
       "      <td>December</td>\n",
       "      <td>2019</td>\n",
       "      <td>477635.0</td>\n",
       "    </tr>\n",
       "  </tbody>\n",
       "</table>\n",
       "<p>396 rows × 5 columns</p>\n",
       "</div>"
      ],
      "text/plain": [
       "            district        date      month  year  visitors\n",
       "0           Adilabad  01-01-2019    January  2019   25071.0\n",
       "1           Adilabad  01-02-2019   February  2019  406177.0\n",
       "2           Adilabad  01-03-2019      March  2019   14347.0\n",
       "3           Adilabad  01-04-2019      April  2019    9972.0\n",
       "4           Adilabad  01-05-2019        May  2019    6997.0\n",
       "..               ...         ...        ...   ...       ...\n",
       "391  Yadadri Bhongir  01-08-2019     August  2019  389010.0\n",
       "392  Yadadri Bhongir  01-09-2019  September  2019  366862.0\n",
       "393  Yadadri Bhongir  01-10-2019    October  2019  381860.0\n",
       "394  Yadadri Bhongir  01-11-2019   November  2019  365990.0\n",
       "395  Yadadri Bhongir  01-12-2019   December  2019  477635.0\n",
       "\n",
       "[396 rows x 5 columns]"
      ]
     },
     "execution_count": 104,
     "metadata": {},
     "output_type": "execute_result"
    }
   ],
   "source": [
    "df[df['year']==2019]"
   ]
  },
  {
   "cell_type": "code",
   "execution_count": 105,
   "id": "3c92b9f3",
   "metadata": {},
   "outputs": [
    {
     "data": {
      "text/html": [
       "<div>\n",
       "<style scoped>\n",
       "    .dataframe tbody tr th:only-of-type {\n",
       "        vertical-align: middle;\n",
       "    }\n",
       "\n",
       "    .dataframe tbody tr th {\n",
       "        vertical-align: top;\n",
       "    }\n",
       "\n",
       "    .dataframe thead th {\n",
       "        text-align: right;\n",
       "    }\n",
       "</style>\n",
       "<table border=\"1\" class=\"dataframe\">\n",
       "  <thead>\n",
       "    <tr style=\"text-align: right;\">\n",
       "      <th></th>\n",
       "      <th>district</th>\n",
       "      <th>visitors</th>\n",
       "    </tr>\n",
       "  </thead>\n",
       "  <tbody>\n",
       "    <tr>\n",
       "      <th>0</th>\n",
       "      <td>Nizamabad</td>\n",
       "      <td>116147.0</td>\n",
       "    </tr>\n",
       "    <tr>\n",
       "      <th>1</th>\n",
       "      <td>Kamareddy</td>\n",
       "      <td>1075068.0</td>\n",
       "    </tr>\n",
       "    <tr>\n",
       "      <th>2</th>\n",
       "      <td>Narayanapet</td>\n",
       "      <td>1104780.0</td>\n",
       "    </tr>\n",
       "    <tr>\n",
       "      <th>3</th>\n",
       "      <td>Peddapalli</td>\n",
       "      <td>1130272.0</td>\n",
       "    </tr>\n",
       "    <tr>\n",
       "      <th>4</th>\n",
       "      <td>Komaram Bheem Asifabad</td>\n",
       "      <td>1166029.0</td>\n",
       "    </tr>\n",
       "  </tbody>\n",
       "</table>\n",
       "</div>"
      ],
      "text/plain": [
       "                 district   visitors\n",
       "0               Nizamabad   116147.0\n",
       "1              Kamareddy   1075068.0\n",
       "2             Narayanapet  1104780.0\n",
       "3              Peddapalli  1130272.0\n",
       "4  Komaram Bheem Asifabad  1166029.0"
      ]
     },
     "execution_count": 105,
     "metadata": {},
     "output_type": "execute_result"
    }
   ],
   "source": [
    "df_district_domestic_visitors.to_frame().reset_index().head()"
   ]
  },
  {
   "cell_type": "code",
   "execution_count": 106,
   "id": "ee803568",
   "metadata": {},
   "outputs": [],
   "source": [
    "visitor_dom_2019=visitor_end_value.drop(['cagr'],axis=1)"
   ]
  },
  {
   "cell_type": "code",
   "execution_count": 107,
   "id": "a9659021",
   "metadata": {},
   "outputs": [
    {
     "data": {
      "text/html": [
       "<div>\n",
       "<style scoped>\n",
       "    .dataframe tbody tr th:only-of-type {\n",
       "        vertical-align: middle;\n",
       "    }\n",
       "\n",
       "    .dataframe tbody tr th {\n",
       "        vertical-align: top;\n",
       "    }\n",
       "\n",
       "    .dataframe thead th {\n",
       "        text-align: right;\n",
       "    }\n",
       "</style>\n",
       "<table border=\"1\" class=\"dataframe\">\n",
       "  <thead>\n",
       "    <tr style=\"text-align: right;\">\n",
       "      <th></th>\n",
       "      <th>district</th>\n",
       "      <th>year</th>\n",
       "      <th>Sum</th>\n",
       "    </tr>\n",
       "  </thead>\n",
       "  <tbody>\n",
       "    <tr>\n",
       "      <th>0</th>\n",
       "      <td>Adilabad</td>\n",
       "      <td>2019</td>\n",
       "      <td>775895.0</td>\n",
       "    </tr>\n",
       "    <tr>\n",
       "      <th>12</th>\n",
       "      <td>Bhadradri Kothagudem</td>\n",
       "      <td>2019</td>\n",
       "      <td>12817737.0</td>\n",
       "    </tr>\n",
       "    <tr>\n",
       "      <th>24</th>\n",
       "      <td>Hyderabad</td>\n",
       "      <td>2019</td>\n",
       "      <td>13802362.0</td>\n",
       "    </tr>\n",
       "    <tr>\n",
       "      <th>36</th>\n",
       "      <td>Jagtial</td>\n",
       "      <td>2019</td>\n",
       "      <td>3086115.0</td>\n",
       "    </tr>\n",
       "    <tr>\n",
       "      <th>48</th>\n",
       "      <td>Jangaon</td>\n",
       "      <td>2019</td>\n",
       "      <td>328890.0</td>\n",
       "    </tr>\n",
       "  </tbody>\n",
       "</table>\n",
       "</div>"
      ],
      "text/plain": [
       "                 district  year         Sum\n",
       "0                Adilabad  2019    775895.0\n",
       "12  Bhadradri Kothagudem   2019  12817737.0\n",
       "24              Hyderabad  2019  13802362.0\n",
       "36               Jagtial   2019   3086115.0\n",
       "48               Jangaon   2019    328890.0"
      ]
     },
     "execution_count": 107,
     "metadata": {},
     "output_type": "execute_result"
    }
   ],
   "source": [
    "visitor_dom_2019.head()"
   ]
  },
  {
   "cell_type": "code",
   "execution_count": 108,
   "id": "2e1d396c",
   "metadata": {},
   "outputs": [],
   "source": [
    "df_for_2019=df_foreign.groupby(by=['district','year'])['visitors'].sum().to_frame().reset_index()"
   ]
  },
  {
   "cell_type": "code",
   "execution_count": 109,
   "id": "30d2fbb1",
   "metadata": {},
   "outputs": [],
   "source": [
    "visitor_for_2019=df_for_2019[df_for_2019['year']==2019]"
   ]
  },
  {
   "cell_type": "code",
   "execution_count": 110,
   "id": "1e1d67fe",
   "metadata": {},
   "outputs": [],
   "source": [
    "df_domestic_foreign_visitors_sum=pd.merge(visitor_dom_2019,visitor_for_2019,on=['district','year'],how='inner')\n",
    "df_domestic_foreign_visitors_sum['district']=df_domestic_foreign_visitors_sum['district'].replace({'Warangal (Rural)': 'Warangal', 'Warangal (Urban)': 'Warangal'})\n",
    "df_domestic_foreign_visitors_sum=df_domestic_foreign_visitors_sum.groupby(by=['district','year'])['Sum'].sum().to_frame('Sum').reset_index()"
   ]
  },
  {
   "cell_type": "code",
   "execution_count": 127,
   "id": "2d1c160e",
   "metadata": {},
   "outputs": [
    {
     "data": {
      "text/html": [
       "<div>\n",
       "<style scoped>\n",
       "    .dataframe tbody tr th:only-of-type {\n",
       "        vertical-align: middle;\n",
       "    }\n",
       "\n",
       "    .dataframe tbody tr th {\n",
       "        vertical-align: top;\n",
       "    }\n",
       "\n",
       "    .dataframe thead th {\n",
       "        text-align: right;\n",
       "    }\n",
       "</style>\n",
       "<table border=\"1\" class=\"dataframe\">\n",
       "  <thead>\n",
       "    <tr style=\"text-align: right;\">\n",
       "      <th></th>\n",
       "      <th>district</th>\n",
       "      <th>year</th>\n",
       "      <th>Sum</th>\n",
       "    </tr>\n",
       "  </thead>\n",
       "  <tbody>\n",
       "    <tr>\n",
       "      <th>0</th>\n",
       "      <td>Adilabad</td>\n",
       "      <td>2019</td>\n",
       "      <td>775895.0</td>\n",
       "    </tr>\n",
       "    <tr>\n",
       "      <th>1</th>\n",
       "      <td>Bhadradri Kothagudem</td>\n",
       "      <td>2019</td>\n",
       "      <td>12817737.0</td>\n",
       "    </tr>\n",
       "    <tr>\n",
       "      <th>2</th>\n",
       "      <td>Hyderabad</td>\n",
       "      <td>2019</td>\n",
       "      <td>13802362.0</td>\n",
       "    </tr>\n",
       "    <tr>\n",
       "      <th>3</th>\n",
       "      <td>Jagtial</td>\n",
       "      <td>2019</td>\n",
       "      <td>3086115.0</td>\n",
       "    </tr>\n",
       "    <tr>\n",
       "      <th>4</th>\n",
       "      <td>Jangaon</td>\n",
       "      <td>2019</td>\n",
       "      <td>328890.0</td>\n",
       "    </tr>\n",
       "  </tbody>\n",
       "</table>\n",
       "</div>"
      ],
      "text/plain": [
       "                district  year         Sum\n",
       "0               Adilabad  2019    775895.0\n",
       "1  Bhadradri Kothagudem   2019  12817737.0\n",
       "2              Hyderabad  2019  13802362.0\n",
       "3               Jagtial   2019   3086115.0\n",
       "4               Jangaon   2019    328890.0"
      ]
     },
     "execution_count": 127,
     "metadata": {},
     "output_type": "execute_result"
    }
   ],
   "source": [
    "df_domestic_foreign_visitors_sum.head()"
   ]
  },
  {
   "cell_type": "code",
   "execution_count": 120,
   "id": "37e3c626",
   "metadata": {},
   "outputs": [
    {
     "data": {
      "text/html": [
       "<div>\n",
       "<style scoped>\n",
       "    .dataframe tbody tr th:only-of-type {\n",
       "        vertical-align: middle;\n",
       "    }\n",
       "\n",
       "    .dataframe tbody tr th {\n",
       "        vertical-align: top;\n",
       "    }\n",
       "\n",
       "    .dataframe thead th {\n",
       "        text-align: right;\n",
       "    }\n",
       "</style>\n",
       "<table border=\"1\" class=\"dataframe\">\n",
       "  <thead>\n",
       "    <tr style=\"text-align: right;\">\n",
       "      <th></th>\n",
       "      <th>district</th>\n",
       "      <th>year</th>\n",
       "      <th>visitors</th>\n",
       "      <th>Population</th>\n",
       "    </tr>\n",
       "  </thead>\n",
       "  <tbody>\n",
       "    <tr>\n",
       "      <th>0</th>\n",
       "      <td>Adilabad</td>\n",
       "      <td>2019</td>\n",
       "      <td>775895.0</td>\n",
       "      <td>117167.0</td>\n",
       "    </tr>\n",
       "    <tr>\n",
       "      <th>1</th>\n",
       "      <td>Adilabad</td>\n",
       "      <td>2019</td>\n",
       "      <td>775895.0</td>\n",
       "      <td>23059.0</td>\n",
       "    </tr>\n",
       "    <tr>\n",
       "      <th>2</th>\n",
       "      <td>Adilabad</td>\n",
       "      <td>2019</td>\n",
       "      <td>775895.0</td>\n",
       "      <td>55841.0</td>\n",
       "    </tr>\n",
       "    <tr>\n",
       "      <th>3</th>\n",
       "      <td>Adilabad</td>\n",
       "      <td>2019</td>\n",
       "      <td>775895.0</td>\n",
       "      <td>49764.0</td>\n",
       "    </tr>\n",
       "    <tr>\n",
       "      <th>4</th>\n",
       "      <td>Adilabad</td>\n",
       "      <td>2019</td>\n",
       "      <td>775895.0</td>\n",
       "      <td>23579.0</td>\n",
       "    </tr>\n",
       "  </tbody>\n",
       "</table>\n",
       "</div>"
      ],
      "text/plain": [
       "   district  year  visitors  Population\n",
       "0  Adilabad  2019  775895.0    117167.0\n",
       "1  Adilabad  2019  775895.0     23059.0\n",
       "2  Adilabad  2019  775895.0     55841.0\n",
       "3  Adilabad  2019  775895.0     49764.0\n",
       "4  Adilabad  2019  775895.0     23579.0"
      ]
     },
     "execution_count": 120,
     "metadata": {},
     "output_type": "execute_result"
    }
   ],
   "source": [
    "df_population.rename(columns={'District':'district'},inplace=True)\n",
    "df_visitors_population=pd.merge(df_domestic_foreign_visitors_sum,df_population,on='district',how='inner')\n",
    "df_visitors_population.rename(columns={'Sum':'visitors'},inplace=True)\n",
    "df_visitors_population.head()\n"
   ]
  },
  {
   "cell_type": "code",
   "execution_count": 134,
   "id": "2e19a4e3",
   "metadata": {},
   "outputs": [
    {
     "data": {
      "text/html": [
       "<div>\n",
       "<style scoped>\n",
       "    .dataframe tbody tr th:only-of-type {\n",
       "        vertical-align: middle;\n",
       "    }\n",
       "\n",
       "    .dataframe tbody tr th {\n",
       "        vertical-align: top;\n",
       "    }\n",
       "\n",
       "    .dataframe thead th {\n",
       "        text-align: right;\n",
       "    }\n",
       "</style>\n",
       "<table border=\"1\" class=\"dataframe\">\n",
       "  <thead>\n",
       "    <tr style=\"text-align: right;\">\n",
       "      <th></th>\n",
       "      <th>district</th>\n",
       "      <th>year</th>\n",
       "      <th>sum</th>\n",
       "    </tr>\n",
       "  </thead>\n",
       "  <tbody>\n",
       "    <tr>\n",
       "      <th>8</th>\n",
       "      <td>Hyderabad</td>\n",
       "      <td>2016</td>\n",
       "      <td>163631.0</td>\n",
       "    </tr>\n",
       "    <tr>\n",
       "      <th>9</th>\n",
       "      <td>Hyderabad</td>\n",
       "      <td>2017</td>\n",
       "      <td>247179.0</td>\n",
       "    </tr>\n",
       "    <tr>\n",
       "      <th>10</th>\n",
       "      <td>Hyderabad</td>\n",
       "      <td>2018</td>\n",
       "      <td>314788.0</td>\n",
       "    </tr>\n",
       "    <tr>\n",
       "      <th>11</th>\n",
       "      <td>Hyderabad</td>\n",
       "      <td>2019</td>\n",
       "      <td>319300.0</td>\n",
       "    </tr>\n",
       "  </tbody>\n",
       "</table>\n",
       "</div>"
      ],
      "text/plain": [
       "     district  year       sum\n",
       "8   Hyderabad  2016  163631.0\n",
       "9   Hyderabad  2017  247179.0\n",
       "10  Hyderabad  2018  314788.0\n",
       "11  Hyderabad  2019  319300.0"
      ]
     },
     "execution_count": 134,
     "metadata": {},
     "output_type": "execute_result"
    }
   ],
   "source": [
    "ku=df_foreign.groupby(by=['district','year'])['visitors'].sum().to_frame('sum').reset_index()\n",
    "ku[ku['district']=='Hyderabad']"
   ]
  },
  {
   "cell_type": "code",
   "execution_count": null,
   "id": "c6633c97",
   "metadata": {},
   "outputs": [],
   "source": []
  },
  {
   "cell_type": "code",
   "execution_count": null,
   "id": "d572a8bf",
   "metadata": {},
   "outputs": [],
   "source": []
  },
  {
   "cell_type": "code",
   "execution_count": null,
   "id": "4fbbc9b7",
   "metadata": {},
   "outputs": [],
   "source": []
  },
  {
   "cell_type": "code",
   "execution_count": 121,
   "id": "2d9588e4",
   "metadata": {},
   "outputs": [],
   "source": [
    "df_visitors_population=df_visitors_population.groupby(by=['district','year','visitors'])['Population'].sum().to_frame(name = 'Population').reset_index()"
   ]
  },
  {
   "cell_type": "code",
   "execution_count": 122,
   "id": "90d21a2a",
   "metadata": {},
   "outputs": [],
   "source": [
    "df_visitors_population['ratio']=df_visitors_population['visitors']/df_visitors_population['Population']"
   ]
  },
  {
   "cell_type": "markdown",
   "id": "312e2b54",
   "metadata": {},
   "source": [
    "TOP 2 DISTRICTS BASED ON VISITORS/POPULATION RATION"
   ]
  },
  {
   "cell_type": "code",
   "execution_count": 123,
   "id": "66d34932",
   "metadata": {},
   "outputs": [
    {
     "data": {
      "text/html": [
       "<div>\n",
       "<style scoped>\n",
       "    .dataframe tbody tr th:only-of-type {\n",
       "        vertical-align: middle;\n",
       "    }\n",
       "\n",
       "    .dataframe tbody tr th {\n",
       "        vertical-align: top;\n",
       "    }\n",
       "\n",
       "    .dataframe thead th {\n",
       "        text-align: right;\n",
       "    }\n",
       "</style>\n",
       "<table border=\"1\" class=\"dataframe\">\n",
       "  <thead>\n",
       "    <tr style=\"text-align: right;\">\n",
       "      <th></th>\n",
       "      <th>district</th>\n",
       "      <th>year</th>\n",
       "      <th>visitors</th>\n",
       "      <th>Population</th>\n",
       "      <th>ratio</th>\n",
       "    </tr>\n",
       "  </thead>\n",
       "  <tbody>\n",
       "    <tr>\n",
       "      <th>1</th>\n",
       "      <td>Hyderabad</td>\n",
       "      <td>2019</td>\n",
       "      <td>13802362.0</td>\n",
       "      <td>224672.0</td>\n",
       "      <td>61.433387</td>\n",
       "    </tr>\n",
       "    <tr>\n",
       "      <th>3</th>\n",
       "      <td>Mahbubnagar</td>\n",
       "      <td>2019</td>\n",
       "      <td>2534815.0</td>\n",
       "      <td>607692.0</td>\n",
       "      <td>4.171217</td>\n",
       "    </tr>\n",
       "    <tr>\n",
       "      <th>6</th>\n",
       "      <td>Warangal</td>\n",
       "      <td>2019</td>\n",
       "      <td>2148730.0</td>\n",
       "      <td>992333.0</td>\n",
       "      <td>2.165332</td>\n",
       "    </tr>\n",
       "    <tr>\n",
       "      <th>2</th>\n",
       "      <td>Khammam</td>\n",
       "      <td>2019</td>\n",
       "      <td>1413440.0</td>\n",
       "      <td>655911.0</td>\n",
       "      <td>2.154927</td>\n",
       "    </tr>\n",
       "    <tr>\n",
       "      <th>0</th>\n",
       "      <td>Adilabad</td>\n",
       "      <td>2019</td>\n",
       "      <td>775895.0</td>\n",
       "      <td>760259.0</td>\n",
       "      <td>1.020567</td>\n",
       "    </tr>\n",
       "    <tr>\n",
       "      <th>4</th>\n",
       "      <td>Nalgonda</td>\n",
       "      <td>2019</td>\n",
       "      <td>140918.0</td>\n",
       "      <td>662507.0</td>\n",
       "      <td>0.212704</td>\n",
       "    </tr>\n",
       "    <tr>\n",
       "      <th>5</th>\n",
       "      <td>Nizamabad</td>\n",
       "      <td>2019</td>\n",
       "      <td>46333.0</td>\n",
       "      <td>588372.0</td>\n",
       "      <td>0.078748</td>\n",
       "    </tr>\n",
       "  </tbody>\n",
       "</table>\n",
       "</div>"
      ],
      "text/plain": [
       "      district  year    visitors  Population      ratio\n",
       "1    Hyderabad  2019  13802362.0    224672.0  61.433387\n",
       "3  Mahbubnagar  2019   2534815.0    607692.0   4.171217\n",
       "6     Warangal  2019   2148730.0    992333.0   2.165332\n",
       "2      Khammam  2019   1413440.0    655911.0   2.154927\n",
       "0     Adilabad  2019    775895.0    760259.0   1.020567\n",
       "4     Nalgonda  2019    140918.0    662507.0   0.212704\n",
       "5    Nizamabad  2019     46333.0    588372.0   0.078748"
      ]
     },
     "execution_count": 123,
     "metadata": {},
     "output_type": "execute_result"
    }
   ],
   "source": [
    "df_visitors_population.sort_values(by='ratio',ascending=False)"
   ]
  },
  {
   "cell_type": "markdown",
   "id": "27378667",
   "metadata": {},
   "source": [
    "BOTTOM 2 DISTRICTS BASED ON VISITORS/POPULATION RATION"
   ]
  },
  {
   "cell_type": "code",
   "execution_count": 124,
   "id": "1cbc2875",
   "metadata": {},
   "outputs": [
    {
     "data": {
      "text/html": [
       "<div>\n",
       "<style scoped>\n",
       "    .dataframe tbody tr th:only-of-type {\n",
       "        vertical-align: middle;\n",
       "    }\n",
       "\n",
       "    .dataframe tbody tr th {\n",
       "        vertical-align: top;\n",
       "    }\n",
       "\n",
       "    .dataframe thead th {\n",
       "        text-align: right;\n",
       "    }\n",
       "</style>\n",
       "<table border=\"1\" class=\"dataframe\">\n",
       "  <thead>\n",
       "    <tr style=\"text-align: right;\">\n",
       "      <th></th>\n",
       "      <th>district</th>\n",
       "      <th>year</th>\n",
       "      <th>visitors</th>\n",
       "      <th>Population</th>\n",
       "      <th>ratio</th>\n",
       "    </tr>\n",
       "  </thead>\n",
       "  <tbody>\n",
       "    <tr>\n",
       "      <th>4</th>\n",
       "      <td>Nalgonda</td>\n",
       "      <td>2019</td>\n",
       "      <td>140918.0</td>\n",
       "      <td>662507.0</td>\n",
       "      <td>0.212704</td>\n",
       "    </tr>\n",
       "    <tr>\n",
       "      <th>5</th>\n",
       "      <td>Nizamabad</td>\n",
       "      <td>2019</td>\n",
       "      <td>46333.0</td>\n",
       "      <td>588372.0</td>\n",
       "      <td>0.078748</td>\n",
       "    </tr>\n",
       "  </tbody>\n",
       "</table>\n",
       "</div>"
      ],
      "text/plain": [
       "    district  year  visitors  Population     ratio\n",
       "4   Nalgonda  2019  140918.0    662507.0  0.212704\n",
       "5  Nizamabad  2019   46333.0    588372.0  0.078748"
      ]
     },
     "execution_count": 124,
     "metadata": {},
     "output_type": "execute_result"
    }
   ],
   "source": [
    "df_visitors_population.sort_values(by='ratio',ascending=False).tail(2)"
   ]
  },
  {
   "cell_type": "code",
   "execution_count": null,
   "id": "ccec2c81",
   "metadata": {},
   "outputs": [],
   "source": []
  },
  {
   "cell_type": "code",
   "execution_count": 125,
   "id": "d59b8379",
   "metadata": {},
   "outputs": [
    {
     "data": {
      "text/html": [
       "<div>\n",
       "<style scoped>\n",
       "    .dataframe tbody tr th:only-of-type {\n",
       "        vertical-align: middle;\n",
       "    }\n",
       "\n",
       "    .dataframe tbody tr th {\n",
       "        vertical-align: top;\n",
       "    }\n",
       "\n",
       "    .dataframe thead th {\n",
       "        text-align: right;\n",
       "    }\n",
       "</style>\n",
       "<table border=\"1\" class=\"dataframe\">\n",
       "  <thead>\n",
       "    <tr style=\"text-align: right;\">\n",
       "      <th></th>\n",
       "      <th>district</th>\n",
       "      <th>date</th>\n",
       "      <th>month</th>\n",
       "      <th>year</th>\n",
       "      <th>visitors</th>\n",
       "    </tr>\n",
       "  </thead>\n",
       "  <tbody>\n",
       "    <tr>\n",
       "      <th>0</th>\n",
       "      <td>Adilabad</td>\n",
       "      <td>01-01-2016</td>\n",
       "      <td>January</td>\n",
       "      <td>2016</td>\n",
       "      <td>792136.0</td>\n",
       "    </tr>\n",
       "    <tr>\n",
       "      <th>1</th>\n",
       "      <td>Adilabad</td>\n",
       "      <td>01-02-2016</td>\n",
       "      <td>February</td>\n",
       "      <td>2016</td>\n",
       "      <td>937820.0</td>\n",
       "    </tr>\n",
       "    <tr>\n",
       "      <th>2</th>\n",
       "      <td>Adilabad</td>\n",
       "      <td>01-03-2016</td>\n",
       "      <td>March</td>\n",
       "      <td>2016</td>\n",
       "      <td>582946.0</td>\n",
       "    </tr>\n",
       "    <tr>\n",
       "      <th>3</th>\n",
       "      <td>Adilabad</td>\n",
       "      <td>01-04-2016</td>\n",
       "      <td>April</td>\n",
       "      <td>2016</td>\n",
       "      <td>341948.0</td>\n",
       "    </tr>\n",
       "    <tr>\n",
       "      <th>4</th>\n",
       "      <td>Adilabad</td>\n",
       "      <td>01-05-2016</td>\n",
       "      <td>May</td>\n",
       "      <td>2016</td>\n",
       "      <td>252887.0</td>\n",
       "    </tr>\n",
       "  </tbody>\n",
       "</table>\n",
       "</div>"
      ],
      "text/plain": [
       "   district        date     month  year  visitors\n",
       "0  Adilabad  01-01-2016   January  2016  792136.0\n",
       "1  Adilabad  01-02-2016  February  2016  937820.0\n",
       "2  Adilabad  01-03-2016     March  2016  582946.0\n",
       "3  Adilabad  01-04-2016     April  2016  341948.0\n",
       "4  Adilabad  01-05-2016       May  2016  252887.0"
      ]
     },
     "execution_count": 125,
     "metadata": {},
     "output_type": "execute_result"
    }
   ],
   "source": [
    "df.head()"
   ]
  },
  {
   "cell_type": "code",
   "execution_count": 127,
   "id": "5a6253a7",
   "metadata": {},
   "outputs": [],
   "source": [
    "left11=df_foreign.groupby(by='district').year.min().to_frame(name = 'Min').reset_index()\n",
    "left11['year']=left11['Min']\n",
    "right11=df_foreign.groupby(by='district').year.max().to_frame(name = 'Max').reset_index()\n",
    "right11['year']=right11['Max']\n",
    "visitor_foreign_begin_year=pd.merge(left11,df_foreign,how='inner',on=['district','year'])\n",
    "visitor_foreign_end_year=pd.merge(right11,df_foreign,how='inner',on=['district','year'])\n",
    "#df.groupby(by=['district','year']).visitors.sum()\n",
    "visitor_foreign_begin_year.drop(['Min','date','month','visitors'],axis=1,inplace=True)\n",
    "visitor_foreign_end_year.drop(['Max','date','month','visitors'],axis=1,inplace=True)\n",
    "visitors_foreign_min_max_year=df_foreign.groupby(by=['district','year']).visitors.sum().to_frame(name = 'Sum').reset_index()\n",
    "visitor_foreign_begin_value=pd.merge(visitors_foreign_min_max_year,visitor_foreign_begin_year,how='inner',on=['district','year']).drop_duplicates()\n",
    "visitor_foreign_end_value=pd.merge(visitors_foreign_min_max_year,visitor_foreign_end_year,how='inner',on=['district','year']).drop_duplicates()\n",
    "visitor_foreign_end_value['cagr']=( ( (visitor_foreign_end_value['Sum']/visitor_foreign_begin_value['Sum']) ** (1/3))-1) *100"
   ]
  },
  {
   "cell_type": "markdown",
   "id": "5d4ad660",
   "metadata": {},
   "source": [
    "Q7. COMPUTE PROJECT DOMESTIC VISITORS IN YEAR 2025 BASED ON GROWTH RATE FROM PREVIOUS YEARS\n",
    "\n",
    "\n",
    "WE WILL BE UTILISING OUT CAGR VALUE TO ESTIMATES THE DOMESTIC VISITORS IN YEAR 2025\n",
    "CAGR IS COMPOUND ANNUAL GROWTH RATE WHOSE VALUE IS GIVEN BY \n",
    "\n",
    "CAGR=(((END_VALUE/BEGIN_VALUE)^1/n)-1)\n",
    "\n",
    "FOR DOMESTIC VISITORS\n",
    "\n",
    "here END_VALUE AND BEGIN_VALUE indicate the sum_of_visitors  in year 2019 and 2016 repectively and n=3 (difference between starting and ending year).\n",
    "we get cagr = -16.13 \n",
    "\n",
    "we use this value to compute visitors in 2025 by subjecting end_value\n",
    "\n",
    "end_value=(CAGR+1)^n*BEGIN_VALUE\n",
    "\n",
    "here cagr=-16.13,n=2025-2019=6 and BEGIN_VALUE IS sum_of_visitors  in year 2019\n",
    "\n",
    "FOR FOREIGN VISITORS\n",
    "cagr = 24.961946\n"
   ]
  },
  {
   "cell_type": "code",
   "execution_count": 128,
   "id": "2fa53df7",
   "metadata": {},
   "outputs": [
    {
     "data": {
      "text/html": [
       "<div>\n",
       "<style scoped>\n",
       "    .dataframe tbody tr th:only-of-type {\n",
       "        vertical-align: middle;\n",
       "    }\n",
       "\n",
       "    .dataframe tbody tr th {\n",
       "        vertical-align: top;\n",
       "    }\n",
       "\n",
       "    .dataframe thead th {\n",
       "        text-align: right;\n",
       "    }\n",
       "</style>\n",
       "<table border=\"1\" class=\"dataframe\">\n",
       "  <thead>\n",
       "    <tr style=\"text-align: right;\">\n",
       "      <th></th>\n",
       "      <th>district</th>\n",
       "      <th>year</th>\n",
       "      <th>Sum</th>\n",
       "      <th>cagr</th>\n",
       "    </tr>\n",
       "  </thead>\n",
       "  <tbody>\n",
       "    <tr>\n",
       "      <th>24</th>\n",
       "      <td>Hyderabad</td>\n",
       "      <td>2019</td>\n",
       "      <td>13802362.0</td>\n",
       "      <td>-16.128976</td>\n",
       "    </tr>\n",
       "  </tbody>\n",
       "</table>\n",
       "</div>"
      ],
      "text/plain": [
       "     district  year         Sum       cagr\n",
       "24  Hyderabad  2019  13802362.0 -16.128976"
      ]
     },
     "execution_count": 128,
     "metadata": {},
     "output_type": "execute_result"
    }
   ],
   "source": [
    "visitor_end_value[visitor_end_value['district']=='Hyderabad']"
   ]
  },
  {
   "cell_type": "code",
   "execution_count": 114,
   "id": "f20b5178",
   "metadata": {},
   "outputs": [
    {
     "name": "stdout",
     "output_type": "stream",
     "text": [
      "Estimated domestic visitors in 2025: 165572 billion\n"
     ]
    }
   ],
   "source": [
    "projected_visitors_2025=((1-16.13)**6)*13802362\n",
    "print(f\"Estimated domestic visitors in 2025: {round(projected_visitors_2025/1000000000)} billion\")"
   ]
  },
  {
   "cell_type": "code",
   "execution_count": 130,
   "id": "15596ae2",
   "metadata": {},
   "outputs": [
    {
     "data": {
      "text/html": [
       "<div>\n",
       "<style scoped>\n",
       "    .dataframe tbody tr th:only-of-type {\n",
       "        vertical-align: middle;\n",
       "    }\n",
       "\n",
       "    .dataframe tbody tr th {\n",
       "        vertical-align: top;\n",
       "    }\n",
       "\n",
       "    .dataframe thead th {\n",
       "        text-align: right;\n",
       "    }\n",
       "</style>\n",
       "<table border=\"1\" class=\"dataframe\">\n",
       "  <thead>\n",
       "    <tr style=\"text-align: right;\">\n",
       "      <th></th>\n",
       "      <th>district</th>\n",
       "      <th>year</th>\n",
       "      <th>Sum</th>\n",
       "      <th>cagr</th>\n",
       "    </tr>\n",
       "  </thead>\n",
       "  <tbody>\n",
       "    <tr>\n",
       "      <th>24</th>\n",
       "      <td>Hyderabad</td>\n",
       "      <td>2019</td>\n",
       "      <td>319300.0</td>\n",
       "      <td>24.961946</td>\n",
       "    </tr>\n",
       "  </tbody>\n",
       "</table>\n",
       "</div>"
      ],
      "text/plain": [
       "     district  year       Sum       cagr\n",
       "24  Hyderabad  2019  319300.0  24.961946"
      ]
     },
     "execution_count": 130,
     "metadata": {},
     "output_type": "execute_result"
    }
   ],
   "source": [
    "visitor_foreign_end_value[visitor_end_value['district']=='Hyderabad']"
   ]
  },
  {
   "cell_type": "code",
   "execution_count": 113,
   "id": "932deea5",
   "metadata": {},
   "outputs": [
    {
     "name": "stdout",
     "output_type": "stream",
     "text": [
      "Estimated foreign visitors in 2025: 97774 billion\n"
     ]
    }
   ],
   "source": [
    "projected_foreign_visitors_2025=((1+24.961946)**6)*319300.0\n",
    "print(f\"Estimated foreign visitors in 2025: {round(projected_foreign_visitors_2025/1000000000)} billion\")"
   ]
  },
  {
   "attachments": {
    "image.png": {
     "image/png": "[encoded data removed]"
    }
   },
   "cell_type": "markdown",
   "id": "c3c9fd87",
   "metadata": {},
   "source": [
    "Q8:\n",
    "\n",
    "![image.png](attachment:image.png)\n"
   ]
  },
  {
   "cell_type": "markdown",
   "id": "1f90a37a",
   "metadata": {},
   "source": [
    "WE CAN COMPUTE REVENUE IN 2025 BY MULTIPLYING ESIMED VISITORS IN 2025 BY AVERAGE REVENUE(1200)"
   ]
  },
  {
   "cell_type": "code",
   "execution_count": 116,
   "id": "fa38c454",
   "metadata": {},
   "outputs": [
    {
     "name": "stdout",
     "output_type": "stream",
     "text": [
      "Estimated revenue from domestic visitors in 2025: Rs 198686440 billion\n"
     ]
    }
   ],
   "source": [
    "dom_rev_2025=projected_visitors_2025*1200\n",
    "print(f\"Estimated revenue from domestic visitors in 2025: Rs {round(dom_rev_2025/1000000000)} billion\")"
   ]
  },
  {
   "cell_type": "code",
   "execution_count": 117,
   "id": "c7a7baf7",
   "metadata": {},
   "outputs": [
    {
     "name": "stdout",
     "output_type": "stream",
     "text": [
      "Estimated revenue from foreign visitors in 2025: Rs 547533126 billion\n"
     ]
    }
   ],
   "source": [
    "for_rev_2025=projected_foreign_visitors_2025*5600\n",
    "print(f\"Estimated revenue from foreign visitors in 2025: Rs {round(for_rev_2025/1000000000)} billion\")"
   ]
  },
  {
   "cell_type": "code",
   "execution_count": null,
   "id": "69442daf",
   "metadata": {},
   "outputs": [],
   "source": []
  },
  {
   "cell_type": "code",
   "execution_count": null,
   "id": "98622981",
   "metadata": {},
   "outputs": [],
   "source": []
  },
  {
   "cell_type": "code",
   "execution_count": null,
   "id": "9252cc0d",
   "metadata": {},
   "outputs": [],
   "source": []
  },
  {
   "cell_type": "code",
   "execution_count": null,
   "id": "1fa5ae9d",
   "metadata": {},
   "outputs": [],
   "source": []
  },
  {
   "cell_type": "code",
   "execution_count": 138,
   "id": "76cfdc63",
   "metadata": {},
   "outputs": [],
   "source": []
  },
  {
   "cell_type": "code",
   "execution_count": 139,
   "id": "4536f818",
   "metadata": {},
   "outputs": [],
   "source": []
  },
  {
   "cell_type": "code",
   "execution_count": null,
   "id": "d154b954",
   "metadata": {},
   "outputs": [],
   "source": []
  },
  {
   "cell_type": "code",
   "execution_count": null,
   "id": "7e51140e",
   "metadata": {},
   "outputs": [],
   "source": []
  },
  {
   "cell_type": "code",
   "execution_count": null,
   "id": "fdc20a31",
   "metadata": {},
   "outputs": [],
   "source": []
  },
  {
   "cell_type": "code",
   "execution_count": null,
   "id": "cfb55d3c",
   "metadata": {},
   "outputs": [],
   "source": []
  },
  {
   "cell_type": "code",
   "execution_count": null,
   "id": "cb83e643",
   "metadata": {},
   "outputs": [],
   "source": []
  },
  {
   "cell_type": "code",
   "execution_count": null,
   "id": "e00caac5",
   "metadata": {},
   "outputs": [],
   "source": []
  },
  {
   "cell_type": "code",
   "execution_count": null,
   "id": "e6b25991",
   "metadata": {},
   "outputs": [],
   "source": []
  },
  {
   "cell_type": "code",
   "execution_count": null,
   "id": "ae9fe6d1",
   "metadata": {},
   "outputs": [],
   "source": []
  },
  {
   "cell_type": "code",
   "execution_count": null,
   "id": "fed2ee01",
   "metadata": {},
   "outputs": [],
   "source": []
  },
  {
   "cell_type": "code",
   "execution_count": 155,
   "id": "5d9b0340",
   "metadata": {},
   "outputs": [],
   "source": []
  },
  {
   "cell_type": "code",
   "execution_count": 158,
   "id": "e4e231cf",
   "metadata": {},
   "outputs": [],
   "source": []
  },
  {
   "cell_type": "code",
   "execution_count": 159,
   "id": "232f4d0e",
   "metadata": {},
   "outputs": [],
   "source": []
  },
  {
   "cell_type": "code",
   "execution_count": 160,
   "id": "45aadd78",
   "metadata": {},
   "outputs": [],
   "source": []
  },
  {
   "cell_type": "code",
   "execution_count": null,
   "id": "cae03106",
   "metadata": {},
   "outputs": [],
   "source": []
  },
  {
   "cell_type": "code",
   "execution_count": null,
   "id": "8a017745",
   "metadata": {},
   "outputs": [],
   "source": []
  },
  {
   "cell_type": "code",
   "execution_count": null,
   "id": "f328c1cf",
   "metadata": {},
   "outputs": [],
   "source": []
  },
  {
   "cell_type": "code",
   "execution_count": null,
   "id": "3c68e706",
   "metadata": {},
   "outputs": [],
   "source": []
  },
  {
   "cell_type": "code",
   "execution_count": null,
   "id": "947380b6",
   "metadata": {},
   "outputs": [],
   "source": []
  },
  {
   "cell_type": "code",
   "execution_count": null,
   "id": "ea633c2d",
   "metadata": {},
   "outputs": [],
   "source": []
  },
  {
   "cell_type": "code",
   "execution_count": null,
   "id": "b6cf3e94",
   "metadata": {},
   "outputs": [],
   "source": []
  },
  {
   "cell_type": "code",
   "execution_count": null,
   "id": "a0a1cf3b",
   "metadata": {},
   "outputs": [],
   "source": []
  },
  {
   "cell_type": "code",
   "execution_count": null,
   "id": "ef877d0a",
   "metadata": {},
   "outputs": [],
   "source": []
  },
  {
   "cell_type": "code",
   "execution_count": null,
   "id": "d768f9a1",
   "metadata": {},
   "outputs": [],
   "source": []
  },
  {
   "cell_type": "code",
   "execution_count": null,
   "id": "b5e3d98e",
   "metadata": {},
   "outputs": [],
   "source": []
  },
  {
   "cell_type": "code",
   "execution_count": null,
   "id": "cf2b9989",
   "metadata": {},
   "outputs": [],
   "source": []
  },
  {
   "cell_type": "code",
   "execution_count": null,
   "id": "33a9ffef",
   "metadata": {},
   "outputs": [],
   "source": []
  },
  {
   "cell_type": "code",
   "execution_count": null,
   "id": "161f9d65",
   "metadata": {},
   "outputs": [],
   "source": []
  },
  {
   "cell_type": "code",
   "execution_count": null,
   "id": "cee895ca",
   "metadata": {},
   "outputs": [],
   "source": []
  },
  {
   "cell_type": "code",
   "execution_count": null,
   "id": "4643a118",
   "metadata": {},
   "outputs": [],
   "source": []
  },
  {
   "cell_type": "code",
   "execution_count": null,
   "id": "addca633",
   "metadata": {},
   "outputs": [],
   "source": []
  },
  {
   "cell_type": "code",
   "execution_count": null,
   "id": "755f5a4f",
   "metadata": {},
   "outputs": [],
   "source": []
  },
  {
   "cell_type": "code",
   "execution_count": null,
   "id": "98a6a241",
   "metadata": {},
   "outputs": [],
   "source": []
  },
  {
   "cell_type": "code",
   "execution_count": null,
   "id": "e8d0cc05",
   "metadata": {},
   "outputs": [],
   "source": []
  },
  {
   "cell_type": "code",
   "execution_count": null,
   "id": "81e3828a",
   "metadata": {},
   "outputs": [],
   "source": []
  },
  {
   "cell_type": "code",
   "execution_count": null,
   "id": "95626dc5",
   "metadata": {},
   "outputs": [],
   "source": []
  },
  {
   "cell_type": "code",
   "execution_count": null,
   "id": "4ef4bc08",
   "metadata": {},
   "outputs": [],
   "source": []
  },
  {
   "cell_type": "code",
   "execution_count": null,
   "id": "2d508419",
   "metadata": {},
   "outputs": [],
   "source": []
  },
  {
   "cell_type": "code",
   "execution_count": null,
   "id": "7841f09e",
   "metadata": {},
   "outputs": [],
   "source": []
  },
  {
   "cell_type": "code",
   "execution_count": null,
   "id": "adf2b1f9",
   "metadata": {},
   "outputs": [],
   "source": []
  },
  {
   "cell_type": "code",
   "execution_count": null,
   "id": "79391468",
   "metadata": {},
   "outputs": [],
   "source": []
  },
  {
   "cell_type": "code",
   "execution_count": null,
   "id": "f2dfe369",
   "metadata": {},
   "outputs": [],
   "source": []
  },
  {
   "cell_type": "code",
   "execution_count": null,
   "id": "d660e7fc",
   "metadata": {},
   "outputs": [],
   "source": []
  },
  {
   "cell_type": "code",
   "execution_count": null,
   "id": "97bb4f92",
   "metadata": {},
   "outputs": [],
   "source": []
  },
  {
   "cell_type": "code",
   "execution_count": null,
   "id": "0fba82a1",
   "metadata": {},
   "outputs": [],
   "source": []
  },
  {
   "cell_type": "code",
   "execution_count": null,
   "id": "1c76783f",
   "metadata": {},
   "outputs": [],
   "source": []
  },
  {
   "cell_type": "code",
   "execution_count": null,
   "id": "db24d475",
   "metadata": {},
   "outputs": [],
   "source": []
  },
  {
   "cell_type": "code",
   "execution_count": null,
   "id": "b6ab889f",
   "metadata": {},
   "outputs": [],
   "source": []
  },
  {
   "cell_type": "markdown",
   "id": "4f8d9d5c",
   "metadata": {},
   "source": []
  },
  {
   "cell_type": "code",
   "execution_count": null,
   "id": "0c063e9e",
   "metadata": {},
   "outputs": [],
   "source": []
  },
  {
   "cell_type": "markdown",
   "id": "0403c690",
   "metadata": {},
   "source": []
  },
  {
   "cell_type": "code",
   "execution_count": null,
   "id": "b4fd46e1",
   "metadata": {},
   "outputs": [],
   "source": []
  },
  {
   "cell_type": "code",
   "execution_count": null,
   "id": "135ec2a0",
   "metadata": {},
   "outputs": [],
   "source": []
  },
  {
   "cell_type": "code",
   "execution_count": null,
   "id": "ebeb47e0",
   "metadata": {},
   "outputs": [],
   "source": []
  },
  {
   "cell_type": "code",
   "execution_count": null,
   "id": "b2e5d8cd",
   "metadata": {},
   "outputs": [],
   "source": []
  },
  {
   "cell_type": "code",
   "execution_count": null,
   "id": "91d5a5e6",
   "metadata": {},
   "outputs": [],
   "source": []
  },
  {
   "cell_type": "code",
   "execution_count": null,
   "id": "2719e2d8",
   "metadata": {},
   "outputs": [],
   "source": []
  },
  {
   "cell_type": "code",
   "execution_count": null,
   "id": "8cdf4222",
   "metadata": {},
   "outputs": [],
   "source": []
  },
  {
   "cell_type": "code",
   "execution_count": null,
   "id": "5ea8b6a8",
   "metadata": {},
   "outputs": [],
   "source": []
  },
  {
   "cell_type": "code",
   "execution_count": null,
   "id": "f3f20ef2",
   "metadata": {},
   "outputs": [],
   "source": []
  },
  {
   "cell_type": "code",
   "execution_count": null,
   "id": "77e99c16",
   "metadata": {},
   "outputs": [],
   "source": []
  },
  {
   "cell_type": "code",
   "execution_count": null,
   "id": "bba7f152",
   "metadata": {
    "scrolled": true
   },
   "outputs": [],
   "source": []
  },
  {
   "cell_type": "code",
   "execution_count": null,
   "id": "8f2da806",
   "metadata": {},
   "outputs": [],
   "source": []
  },
  {
   "cell_type": "code",
   "execution_count": null,
   "id": "6ea83f72",
   "metadata": {},
   "outputs": [],
   "source": []
  },
  {
   "cell_type": "code",
   "execution_count": null,
   "id": "0c5f93b9",
   "metadata": {},
   "outputs": [],
   "source": []
  },
  {
   "cell_type": "code",
   "execution_count": null,
   "id": "a2fd897f",
   "metadata": {},
   "outputs": [],
   "source": []
  },
  {
   "cell_type": "code",
   "execution_count": null,
   "id": "95614816",
   "metadata": {},
   "outputs": [],
   "source": []
  },
  {
   "cell_type": "code",
   "execution_count": null,
   "id": "41ea9ba8",
   "metadata": {},
   "outputs": [],
   "source": []
  },
  {
   "cell_type": "code",
   "execution_count": null,
   "id": "f40683ce",
   "metadata": {},
   "outputs": [],
   "source": []
  },
  {
   "cell_type": "code",
   "execution_count": null,
   "id": "194a928c",
   "metadata": {},
   "outputs": [],
   "source": []
  },
  {
   "cell_type": "code",
   "execution_count": null,
   "id": "821587ad",
   "metadata": {},
   "outputs": [],
   "source": []
  },
  {
   "cell_type": "code",
   "execution_count": null,
   "id": "6d676bec",
   "metadata": {},
   "outputs": [],
   "source": []
  }
 ],
 "metadata": {
  "kernelspec": {
   "display_name": "Python 3 (ipykernel)",
   "language": "python",
   "name": "python3"
  },
  "language_info": {
   "codemirror_mode": {
    "name": "ipython",
    "version": 3
   },
   "file_extension": ".py",
   "mimetype": "text/x-python",
   "name": "python",
   "nbconvert_exporter": "python",
   "pygments_lexer": "ipython3",
   "version": "3.10.9"
  }
 },
 "nbformat": 4,
 "nbformat_minor": 5
}
